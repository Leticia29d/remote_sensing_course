{
  "nbformat": 4,
  "nbformat_minor": 0,
  "metadata": {
    "colab": {
      "name": "SNR.ipynb",
      "provenance": [],
      "collapsed_sections": [],
      "authorship_tag": "ABX9TyOBr/GCw5s9N342aR0Ohjkl",
      "include_colab_link": true
    },
    "kernelspec": {
      "name": "python3",
      "display_name": "Python 3"
    }
  },
  "cells": [
    {
      "cell_type": "markdown",
      "metadata": {
        "id": "view-in-github",
        "colab_type": "text"
      },
      "source": [
        "<a href=\"https://colab.research.google.com/github/rg-smith/remote_sensing_course/blob/main/SNR.ipynb\" target=\"_parent\"><img src=\"https://colab.research.google.com/assets/colab-badge.svg\" alt=\"Open In Colab\"/></a>"
      ]
    },
    {
      "cell_type": "markdown",
      "metadata": {
        "id": "2U6C2XJ8mY_r"
      },
      "source": [
        "Get files from github page. This line only has to be run once"
      ]
    },
    {
      "cell_type": "code",
      "metadata": {
        "id": "DjjBfOJ3mR09"
      },
      "source": [
        "!git clone https://github.com/rg-smith/remote_sensing_course.git"
      ],
      "execution_count": null,
      "outputs": []
    },
    {
      "cell_type": "markdown",
      "metadata": {
        "id": "fiWudFoKmcCZ"
      },
      "source": [
        "Load packages that we will be using"
      ]
    },
    {
      "cell_type": "code",
      "metadata": {
        "id": "T3sjre4BWygk"
      },
      "source": [
        "import matplotlib.image as img\r\n",
        "import numpy as np\r\n",
        "import matplotlib.pyplot as plt\r\n",
        "from scipy import ndimage"
      ],
      "execution_count": 2,
      "outputs": []
    },
    {
      "cell_type": "markdown",
      "metadata": {
        "id": "sZZii3M9cKmU"
      },
      "source": [
        "Load original image"
      ]
    },
    {
      "cell_type": "code",
      "metadata": {
        "id": "0XHjtXyJYtRO"
      },
      "source": [
        "field=img.imread('remote_sensing_course/football_field.jpg',format='JPG')\r\n",
        "field=field[1::2,1::2,:] # reduce image size by half to speed up computations"
      ],
      "execution_count": 66,
      "outputs": []
    },
    {
      "cell_type": "markdown",
      "metadata": {
        "id": "GMqScPFWgh2z"
      },
      "source": [
        "Make function to add noise to the raster"
      ]
    },
    {
      "cell_type": "code",
      "metadata": {
        "id": "Dp4YjHsBfp8F"
      },
      "source": [
        "def add_noise(raster,standard_deviation):\r\n",
        "  noise=np.random.normal(0,standard_deviation,raster.shape)\r\n",
        "  shift=np.max(raster)/2\r\n",
        "  raster=raster-shift # shift the raster so it's centered at 0\r\n",
        "  raster=raster+noise # add noise to the raster\r\n",
        "  raster=raster+shift # shift the raster back to original\r\n",
        "  raster=raster-np.min(raster);raster=raster/np.max(raster) # scale raster from 0 to 1\r\n",
        "  return(raster)\r\n"
      ],
      "execution_count": 67,
      "outputs": []
    },
    {
      "cell_type": "markdown",
      "metadata": {
        "id": "czi4y05qcRXt"
      },
      "source": [
        "Add noise to the image (normal distribution)"
      ]
    },
    {
      "cell_type": "code",
      "metadata": {
        "id": "4WfUWdMKcJOn"
      },
      "source": [
        "field_noisy=add_noise(field,100)"
      ],
      "execution_count": 68,
      "outputs": []
    },
    {
      "cell_type": "markdown",
      "metadata": {
        "id": "Jm-SIzdidSSY"
      },
      "source": [
        "Set default plot size"
      ]
    },
    {
      "cell_type": "code",
      "metadata": {
        "id": "YTMBXfYldRNh"
      },
      "source": [
        "plt.rcParams['figure.figsize'] = [16, 10]\r\n",
        "plt.rcParams['figure.dpi'] = 100"
      ],
      "execution_count": 42,
      "outputs": []
    },
    {
      "cell_type": "markdown",
      "metadata": {
        "id": "FM8SsSVVcg9i"
      },
      "source": [
        "Plot the original and the noisy image"
      ]
    },
    {
      "cell_type": "code",
      "metadata": {
        "id": "YIEsJULbcgSt"
      },
      "source": [
        "plt.figure();\r\n",
        "plt.subplot(2,2,1)\r\n",
        "plt.imshow(field);plt.title('original image')\r\n",
        "plt.subplot(2,2,2);\r\n",
        "plt.imshow(field_noisy);plt.title('noisy image')"
      ],
      "execution_count": null,
      "outputs": []
    },
    {
      "cell_type": "markdown",
      "metadata": {
        "id": "nFzbIB3vcOSa"
      },
      "source": [
        "Define function to average neighboring pixels"
      ]
    },
    {
      "cell_type": "code",
      "metadata": {
        "id": "P8BuLRTjXm0J"
      },
      "source": [
        "def multilook(raster,looks):\r\n",
        "    for kk in range(raster.shape[2]):\r\n",
        "        raster[:,:,kk]=ndimage.generic_filter(np.squeeze(raster[:,:,kk]), np.nanmean, size=looks, mode='constant', cval=np.NaN)\r\n",
        "        raster[:,:,kk]=raster[:,:,kk]-np.nanmin(raster[:,:,kk])\r\n",
        "        raster[:,:,kk]=raster[:,:,kk]/np.nanmax(raster[:,:,kk])\r\n",
        "    #raster=raster[0::looks,0::looks,:]\r\n",
        "    return(raster)"
      ],
      "execution_count": 57,
      "outputs": []
    },
    {
      "cell_type": "markdown",
      "metadata": {
        "id": "ixtJ7ARQcWMp"
      },
      "source": [
        "Average and plot the smoothed image"
      ]
    },
    {
      "cell_type": "code",
      "metadata": {
        "id": "mPTd8q_UZAaC"
      },
      "source": [
        "field_multilook=multilook(field_noisy,11)\r\n",
        "plt.figure()\r\n",
        "plt.subplot(1,2,1)\r\n",
        "plt.imshow(field);plt.title('original image')\r\n",
        "plt.subplot(1,2,2)\r\n",
        "plt.imshow(field_multilook);plt.title('image with noise and smoothing')\r\n"
      ],
      "execution_count": null,
      "outputs": []
    }
  ]
}