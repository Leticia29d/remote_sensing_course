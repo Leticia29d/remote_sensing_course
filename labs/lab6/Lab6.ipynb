{
  "nbformat": 4,
  "nbformat_minor": 0,
  "metadata": {
    "colab": {
      "name": "Lab6.ipynb",
      "provenance": [],
      "collapsed_sections": [],
      "authorship_tag": "ABX9TyM2Cv0FH4W1h7X8A3rV3m/0",
      "include_colab_link": true
    },
    "kernelspec": {
      "name": "python3",
      "display_name": "Python 3"
    }
  },
  "cells": [
    {
      "cell_type": "markdown",
      "metadata": {
        "id": "view-in-github",
        "colab_type": "text"
      },
      "source": [
        "<a href=\"https://colab.research.google.com/github/rg-smith/remote_sensing_course/blob/main/labs/lab6/Lab6.ipynb\" target=\"_parent\"><img src=\"https://colab.research.google.com/assets/colab-badge.svg\" alt=\"Open In Colab\"/></a>"
      ]
    },
    {
      "cell_type": "markdown",
      "metadata": {
        "id": "wEL4beddP9LP"
      },
      "source": [
        "# Lab 6\r\n",
        "\r\n",
        "**In this lab, you will use python (and a module called Google Earth Engine) to view satellite imagery, and calculate ratios and indices. The lab is divided into three parts:**\r\n",
        "\r\n",
        "**Part 1: Imaging minerals in Eritrea**\r\n",
        "\r\n",
        "**Part 2: Imaging freshwater in the Ozarks**\r\n",
        "\r\n",
        "**Part 3: Apply what you've learned to your term project**\r\n",
        "\r\n",
        "The majority of the code here does not need to be modified, only run. The portions of code that do need to be modified will be shown clearly.\r\n",
        "\r\n",
        "Before starting the sections, we will import the modules we need, initialize Google Earth Engine, and define some functions."
      ]
    },
    {
      "cell_type": "markdown",
      "metadata": {
        "id": "PFTvpuKbQ1SY"
      },
      "source": [
        "The first block of code only needs to be run once, the first time you open your session (if you close out of the session and open again, you will need to run this again). Follow the prompts to initialize earth engine. You will be taken to a link where you need to give permission to link your google account with Google Earth Engine, then copy and paste some text below the code block."
      ]
    },
    {
      "cell_type": "code",
      "metadata": {
        "id": "bMC9C9SKMhgz"
      },
      "source": [
        "import ee\r\n",
        "import folium\r\n",
        "import numpy as np\r\n",
        "import branca.colormap as cm\r\n",
        "\r\n",
        "ee.Authenticate()\r\n",
        "ee.Initialize()"
      ],
      "execution_count": null,
      "outputs": []
    },
    {
      "cell_type": "markdown",
      "metadata": {
        "id": "0hD7poLQReog"
      },
      "source": [
        "This block of code also only needs to be run once. It is defining a bunch of functions that you will use in this exercise. It is not important for you to understand the code here for this exercise."
      ]
    },
    {
      "cell_type": "code",
      "metadata": {
        "id": "n-9383M2OZd1"
      },
      "source": [
        "# functions needed for this lab (and some other useful ones that you can use if you're interested)\r\n",
        "\r\n",
        "# to add a layer to our map:\r\n",
        "def add_ee_layer(self, ee_object, name):\r\n",
        "    try:    \r\n",
        "        # display ee.Image()\r\n",
        "        if isinstance(ee_object, ee.image.Image):  \r\n",
        "            range = ee.Image(ee_object).reduceRegion(ee.Reducer.percentile([1, 99]))\r\n",
        "            vals = range.getInfo()\r\n",
        "            min=list(vals.items())[0][1]\r\n",
        "            max=list(vals.items())[1][1]\r\n",
        "            vis = {'min': min, 'max': max, 'palette': ['0000FF', 'FFFFFF','FF0000']}\r\n",
        "\r\n",
        "            map_id_dict = ee.Image(ee_object).getMapId(vis)\r\n",
        "            folium.raster_layers.TileLayer(\r\n",
        "            tiles = map_id_dict['tile_fetcher'].url_format,\r\n",
        "            attr = 'Google Earth Engine',\r\n",
        "            name = name,\r\n",
        "            overlay = True,\r\n",
        "            control = True\r\n",
        "            ).add_to(self)\r\n",
        "            colormap = cm.LinearColormap(vmin=min,vmax=max,colors=['blue', 'white','red']).to_step(n=10)\r\n",
        "            colormap.caption=name\r\n",
        "            self.add_child(colormap)\r\n",
        "        # display ee.ImageCollection()\r\n",
        "        elif isinstance(ee_object, ee.imagecollection.ImageCollection):    \r\n",
        "            ee_object_new = ee_object.mosaic()\r\n",
        "            map_id_dict = ee.Image(ee_object_new).getMapId(vis_params)\r\n",
        "            folium.raster_layers.TileLayer(\r\n",
        "            tiles = map_id_dict['tile_fetcher'].url_format,\r\n",
        "            attr = 'Google Earth Engine',\r\n",
        "            name = name,\r\n",
        "            overlay = True,\r\n",
        "            control = True\r\n",
        "            ).add_to(self)\r\n",
        "        # display ee.Geometry()\r\n",
        "        elif isinstance(ee_object, ee.geometry.Geometry):    \r\n",
        "            folium.GeoJson(\r\n",
        "            data = ee_object.getInfo(),\r\n",
        "            name = name,\r\n",
        "            overlay = True,\r\n",
        "            control = True\r\n",
        "        ).add_to(self)\r\n",
        "        # display ee.FeatureCollection()\r\n",
        "        elif isinstance(ee_object, ee.featurecollection.FeatureCollection):  \r\n",
        "            ee_object_new = ee.Image().paint(ee_object, 0, 2)\r\n",
        "            map_id_dict = ee.Image(ee_object_new).getMapId(vis_params)\r\n",
        "            folium.raster_layers.TileLayer(\r\n",
        "            tiles = map_id_dict['tile_fetcher'].url_format,\r\n",
        "            attr = 'Google Earth Engine',\r\n",
        "            name = name,\r\n",
        "            overlay = True,\r\n",
        "            control = True\r\n",
        "        ).add_to(self)\r\n",
        "    \r\n",
        "    except:\r\n",
        "        print(\"Could not display {}\".format(name))\r\n",
        "\r\n",
        "# to convert a google earth engine image to a python array\r\n",
        "def to_array(img,aoi):\r\n",
        "  band_arrs = img.sampleRectangle(region=aoi)\r\n",
        "\r\n",
        "  band_names=band_arrs.bandNames().getInfo()\r\n",
        "\r\n",
        "  for kk in range(len(band_names)):\r\n",
        "    if kk==0:\r\n",
        "      dat1=np.array(band_arrs.get(band_names[kk]).getInfo())\r\n",
        "      dat_full=np.zeros((dat1.shape[0],dat1.shape[1],len(band_names)))\r\n",
        "      dat_full[:,:,kk]=dat1\r\n",
        "    else:\r\n",
        "      dat=np.array(band_arrs.get(band_names[kk]).getInfo())\r\n",
        "      dat_full[:,:,kk]=dat\r\n",
        "  return(dat_full)\r\n",
        "\r\n",
        "# to calculate an index\r\n",
        "def getIndex(image,b1,b2):\r\n",
        "  return image.normalizedDifference([b1, b2])\r\n",
        "\r\n",
        "# to calculate a ratio\r\n",
        "def getRatio(image1,image2):\r\n",
        "  ratio=image1.divide(image2)\r\n",
        "  return ratio\r\n",
        "\r\n",
        "# to create a color map from a specific image\r\n",
        "def getVisparams(image,aoi):\r\n",
        "  range = image.reduceRegion(ee.Reducer.percentile([1, 99]),aoi,300)\r\n",
        "  vals = range.getInfo()\r\n",
        "  min=list(vals.items())[0][1]\r\n",
        "  max=list(vals.items())[1][1]\r\n",
        "  visParams = {'min': min, 'max': max, 'palette': ['0000FF', 'FFFFFF','FF0000']}\r\n",
        "  return(visParams)\r\n",
        "\r\n",
        "# to get the link to download an earth engine image\r\n",
        "def getLink(image,aoi):\r\n",
        "  link = image.getDownloadURL({\r\n",
        "    'scale': 30,\r\n",
        "    'crs': 'EPSG:4326',\r\n",
        "    'fileFormat': 'GeoTIFF',\r\n",
        "    'region': aoi})\r\n",
        "  print(link)\r\n",
        "\r\n",
        "# create an earth engine geometry polygon\r\n",
        "def addGeometry(min_lon,max_lon,min_lat,max_lat):\r\n",
        "  import ee\r\n",
        "  geom = ee.Geometry.Polygon(\r\n",
        "      [[[min_lon, max_lat],\r\n",
        "        [min_lon, min_lat],\r\n",
        "        [max_lon, min_lat],\r\n",
        "        [max_lon, max_lat]]])\r\n",
        "  return(geom)\r\n",
        "\r\n",
        "# load landsat 8 data\r\n",
        "def get_l8_image(date1,date2,geometry):\r\n",
        "    import ee\r\n",
        "    l8 = ee.ImageCollection('LANDSAT/LC08/C01/T1_RT')\r\n",
        "    l8_img = l8.filterDate(date1,date2).filterBounds(geometry).first().clip(geometry)\r\n",
        "    return(l8_img)\r\n",
        "\r\n",
        "# load sentinel 2 data\r\n",
        "def get_s2_image(date1,date2,geometry):\r\n",
        "    import ee\r\n",
        "    s2 = ee.ImageCollection('COPERNICUS/S2')\r\n",
        "    s2_img = s2.filterDate(date1,date2).filterBounds(geometry).first().clip(geometry)\r\n",
        "    return(s2_img)\r\n",
        "\r\n",
        "# Add EE drawing method to folium.\r\n",
        "folium.Map.add_ee_layer = add_ee_layer"
      ],
      "execution_count": 13,
      "outputs": []
    },
    {
      "cell_type": "markdown",
      "metadata": {
        "id": "mPB43w6tRrSW"
      },
      "source": [
        "# Part 1: Imaging minerals in Eritria\r\n",
        "\r\n",
        "In this section we will focus on using multi-spectral optical remote sensing data for mineral exploration. Specifically, we will attempt to image hydrothermal alteration zones associated with gold-bearing massive sulfide deposits. The surface expression of these hydrothermal alteration zones is in the form of both clay and iron concentration and associated gossans. For this, we will focus on northern Eritrea which is dominated by N-trending Neoproterozoic layered rocks and granitic intrusions. Eritrea became an independent state in NE Africa in 1994 after 30 years of independent war with Ethiopia. A prior S&T graduate student has been involved in a NASA-funded project to help Eritrea develop its mineral resources. Results of this study are published in “Abdelsalam, M.G., Stern, R.J., and Berhane, W.G., 2000. Mapping Gossans in Arid Regions with Landsat TM and SIR-C/X-SAR Imagery: The Beddaho Alteration Zone in Northern Eritrea, Journal of African Earth Sciences, 30, 903-916”. \r\n",
        "\r\n",
        "Your task is to perform remote sensing analysis of the region that can help mineral exploration companies to locate possible sites for future development. "
      ]
    },
    {
      "cell_type": "markdown",
      "metadata": {
        "id": "rPP3FMD4SQKM"
      },
      "source": [
        "First, we will define the study area and time period and load some Landsat 8 data"
      ]
    },
    {
      "cell_type": "code",
      "metadata": {
        "id": "3ee4KySvtxDb"
      },
      "source": [
        "# create a bounding box that defines the study area\r\n",
        "geom_ethiopia = addGeometry(38.22, 38.40,17.22,17.48) # min long, max long, min lat, max lat\r\n",
        "\r\n",
        "# define dates of interest (inclusive).\r\n",
        "start = '2017-01-01'\r\n",
        "end = '2017-04-01'\r\n",
        "\r\n",
        "# pull Landsat data over the time period and region previously defined. This pulls the first image found in the date range defined\r\n",
        "l8_img_ethiopia = get_l8_image(start,end,geom_ethiopia)"
      ],
      "execution_count": null,
      "outputs": []
    },
    {
      "cell_type": "markdown",
      "metadata": {
        "id": "c5D60P1VTUzC"
      },
      "source": [
        "**You need to modify the code below.**\r\n",
        "\r\n",
        "We are looking for Gossans, which have low clay content and high iron-oxide content. There is a clay minerals ratio and an iron oxide ratio that can be used for each of these.\r\n",
        "\r\n",
        "Look up what looks like a good ratio for each of these (use the indices given in Canvas). Then, replace each 'Bn' with a band number that has this format: 'B1','B2', etc. The first 'Bn' will be the numerator, and the second will be the denominator. This image is from Landsat 8, so be sure to use band numbers for Landsat 8. These are given under Canvas (Files > Resources > Landsat8_bands.png\r\n",
        "\r\n",
        "After defining a ratio for clays (high should mean more clay) and iron oxides, make another ratio to highlight gossans. You can do this by dividing the iron oxide ratio by the clay ratio."
      ]
    },
    {
      "cell_type": "code",
      "metadata": {
        "id": "hkbEjM06OVsG"
      },
      "source": [
        "# Replace the bands here with bands that you think make sense to come up with an index for each measurement\r\n",
        "clayratio = getRatio(l8_img_ethiopia.select('Bn'),l8_img_ethiopia.select('Bn'))\r\n",
        "ior = getRatio(l8_img_ethiopia.select('Bn'),l8_img_ethiopia.select('Bn'))\r\n",
        "\r\n",
        "# divide iron oxide ratio by clay ratio\r\n",
        "gossans = getRatio(ior,clayratio)"
      ],
      "execution_count": null,
      "outputs": []
    },
    {
      "cell_type": "markdown",
      "metadata": {
        "id": "G6NTOA9oULq-"
      },
      "source": [
        "Now, we will view the map. Scroll to the top so you can check/uncheck layers. Observe areas that are likely to have Gossans. Take a screenshot to include in your lab report, and describe the wavelengths you used for your ratios."
      ]
    },
    {
      "cell_type": "code",
      "metadata": {
        "id": "LclSbsmkt4Zq"
      },
      "source": [
        "my_map = folium.Map(location=[17.3, 38.3], zoom_start=12)\r\n",
        "\r\n",
        "# Add the land cover to the map object.\r\n",
        "my_map.add_ee_layer(clayratio,'Clay Minerals Ratio')\r\n",
        "my_map.add_ee_layer(ior,'Iron Ferrous Minerals Ratio')\r\n",
        "my_map.add_ee_layer(gossans,'Gossans')\r\n",
        "my_map.add_ee_layer(geom_ethiopia,'bounding box')\r\n",
        "\r\n",
        "# Add a layer control panel to the map.\r\n",
        "my_map.add_child(folium.LayerControl())\r\n",
        "\r\n",
        "# Display the map.\r\n",
        "display(my_map)"
      ],
      "execution_count": null,
      "outputs": []
    },
    {
      "cell_type": "markdown",
      "metadata": {
        "id": "tR37-cMAVARE"
      },
      "source": [
        "Now, we will download the ratios that we created as geotiffs. Once you have downloaded them, load them into ArcMap. Create a shapefile over one area that you think is likely to have Gossans. Take a screenshot and include with your report."
      ]
    },
    {
      "cell_type": "code",
      "metadata": {
        "colab": {
          "base_uri": "https://localhost:8080/"
        },
        "id": "Lz83KHaegOPk",
        "outputId": "ec4346ef-c34a-499e-bf7c-ee43d36d2db1"
      },
      "source": [
        "print('clay minerals ratio raster download:')\r\n",
        "getLink(clayratio,geom_ethiopia)\r\n",
        "print('iron oxide ratio raster download:')\r\n",
        "getLink(ior,geom_ethiopia)\r\n",
        "print('gossans ratio raster download:')\r\n",
        "getLink(gossans,geom_ethiopia)"
      ],
      "execution_count": null,
      "outputs": [
        {
          "output_type": "stream",
          "text": [
            "clay minerals ratio raster download:\n",
            "https://earthengine.googleapis.com/v1alpha/projects/earthengine-legacy/thumbnails/ad3a59a9d47db5f2ae26eda03c42cc35-5e952e6d504e4f8efd097f9b93b5d592:getPixels\n",
            "iron oxide ratio raster download:\n",
            "https://earthengine.googleapis.com/v1alpha/projects/earthengine-legacy/thumbnails/50f32448c95aba9c0562d77b549984a5-53ba6637ac5cb892caff2f188e7383d0:getPixels\n",
            "gossans ratio raster download:\n",
            "https://earthengine.googleapis.com/v1alpha/projects/earthengine-legacy/thumbnails/702448758118e5cb5f078c3093e753a4-fe36b39d9806f5166bc31b3abe2bfd16:getPixels\n"
          ],
          "name": "stdout"
        }
      ]
    },
    {
      "cell_type": "markdown",
      "metadata": {
        "id": "pXw_oaR9Si0J"
      },
      "source": [
        "# Part 2: Imaging freshwater in the Ozarks\r\n",
        "\r\n",
        "For this section of the lab, we will follow a similar process, but now we will create a normalized index, instead of a ratio, that will highlight freshwater.\r\n",
        "\r\n",
        "First, we will define the study area and time frame like before."
      ]
    },
    {
      "cell_type": "code",
      "metadata": {
        "id": "ov0AgBbuSmsX"
      },
      "source": [
        "# create a bounding box that defines the study area. This will cover the Lake of the Ozarks region\r\n",
        "geom_ozarks = addGeometry(-92.62,-93.42,38.04,38.40) # min long, max long, min lat, max lat\r\n",
        "\r\n",
        "# define dates of interest (inclusive).\r\n",
        "start = '2017-01-01'\r\n",
        "end = '2017-04-01'\r\n",
        "\r\n",
        "# pull landsat image over the study area and dates defined\r\n",
        "l8_img_ozarks = get_l8_image(start,end,geom_ozarks)"
      ],
      "execution_count": null,
      "outputs": []
    },
    {
      "cell_type": "markdown",
      "metadata": {
        "id": "SHBf1-kAWCli"
      },
      "source": [
        "**You will modify the next block of code**\r\n",
        "\r\n",
        "Define an index that gives a high value for water and a low value for everything else. We don't have any indices we've discussed in class for this, so create your own. Use the spectral reflectance of water, shown below, to do this.\r\n",
        "\r\n",
        "![water_reflectance.png](data:image/png;base64,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)\r\n",
        "\r\n",
        "The normalized index has this formula:\r\n",
        "\r\n",
        "(A-B)/(A+B)\r\n",
        "\r\n",
        "In the code block, the first 'Bn' represents A in the equation above, and the second 'Bn' represents B in the equation above."
      ]
    },
    {
      "cell_type": "code",
      "metadata": {
        "id": "UkwuHPDLxYrD"
      },
      "source": [
        "waterindex = getIndex(l8_img_ozarks,'Bn','Bn')"
      ],
      "execution_count": null,
      "outputs": []
    },
    {
      "cell_type": "markdown",
      "metadata": {
        "id": "XYQbJiMJWZy-"
      },
      "source": [
        "Now, you will display the map. Try at least three different indices. Include a screenshot and description of what wavelengths you used for each one in your lab report."
      ]
    },
    {
      "cell_type": "code",
      "metadata": {
        "id": "RuRFha_Vv-IN"
      },
      "source": [
        "my_map = folium.Map(location=[38.1, -92.92], zoom_start=11)\r\n",
        "\r\n",
        "# Add the land cover to the map object.\r\n",
        "my_map.add_ee_layer(waterindex,'Water Index')\r\n",
        "my_map.add_ee_layer(geom_ozarks,'bounding box')\r\n",
        "\r\n",
        "# Add a layer control panel to the map.\r\n",
        "my_map.add_child(folium.LayerControl())\r\n",
        "\r\n",
        "# Display the map.\r\n",
        "display(my_map)"
      ],
      "execution_count": null,
      "outputs": []
    },
    {
      "cell_type": "markdown",
      "metadata": {
        "id": "JnBj9XIyWmgo"
      },
      "source": [
        "# Part 3: Apply to your term project\r\n",
        "\r\n",
        "Now, the fun part! Use a previously defined index, or create your own, over the study area that you have decided on for your term project. \r\n",
        "\r\n",
        "First, replace the coordinates (min lon, max lon, etc.) with coordinates of the minimum and maximum longitude and latitude of your study area. (Hint: don't make it too big, or google earth engine will get bogged down. A range of 1 degree or so is usually fine). Then replace the 'yyyy-mm-dd' for start and end to reflect dates that you are interested in. This is Landsat8, so be sure to pick dates when you know Landsat 8 was in orbit. The algorithm will pick the first image it can find, so the start date is the most important."
      ]
    },
    {
      "cell_type": "code",
      "metadata": {
        "id": "wsMuNh4EW4nf"
      },
      "source": [
        "# create a bounding box that defines the study area. This will cover the Lake of the Ozarks region\r\n",
        "geom_studyarea = addGeometry(minlon,maxlon,minlat,maxlat) # min long, max long, min lat, max lat\r\n",
        "\r\n",
        "# define dates of interest (inclusive).\r\n",
        "start = 'yyyy-mm-dd'\r\n",
        "end = 'yyyy-mm-dd'\r\n",
        "\r\n",
        "# pull landsat image over the study area and dates defined\r\n",
        "l8_img_studyarea = get_l8_image(start,end,geom_studyarea)"
      ],
      "execution_count": null,
      "outputs": []
    },
    {
      "cell_type": "markdown",
      "metadata": {
        "id": "mNXqO-q6XwX_"
      },
      "source": [
        "Create your own index (or use one that has been created by someone else). Explain in your lab report what the wavelengths for the index are, and why it will be helpful for your term project."
      ]
    },
    {
      "cell_type": "code",
      "metadata": {
        "id": "uTd0xiXRXp2s"
      },
      "source": [
        "yourindex = getIndex(l8_img_studyarea,'Bn','Bn')"
      ],
      "execution_count": null,
      "outputs": []
    },
    {
      "cell_type": "markdown",
      "metadata": {
        "id": "Put9DrpeX-kj"
      },
      "source": [
        "View the map. You'll have to replace lat and lon with the coordinates you want the map centered on."
      ]
    },
    {
      "cell_type": "code",
      "metadata": {
        "id": "C_qn1E0iX_TL"
      },
      "source": [
        "my_map = folium.Map(location=[lat, lon], zoom_start=11)\r\n",
        "\r\n",
        "# Add the land cover to the map object.\r\n",
        "my_map.add_ee_layer(yourindex,'My Index')\r\n",
        "my_map.add_ee_layer(geom_studyarea,'bounding box')\r\n",
        "\r\n",
        "# Add a layer control panel to the map.\r\n",
        "my_map.add_child(folium.LayerControl())\r\n",
        "\r\n",
        "# Display the map.\r\n",
        "display(my_map)"
      ],
      "execution_count": null,
      "outputs": []
    },
    {
      "cell_type": "markdown",
      "metadata": {
        "id": "4gQPQk_bbi35"
      },
      "source": [
        "You can download the index if you'd like by running this code:"
      ]
    },
    {
      "cell_type": "code",
      "metadata": {
        "id": "ZOC3yrrdbmoU"
      },
      "source": [
        "print('index raster download:')\r\n",
        "getLink(yourindex,geom_studyarea)"
      ],
      "execution_count": null,
      "outputs": []
    }
  ]
}