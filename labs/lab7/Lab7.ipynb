{
  "nbformat": 4,
  "nbformat_minor": 0,
  "metadata": {
    "colab": {
      "name": "Lab7.ipynb",
      "provenance": [],
      "collapsed_sections": [],
      "toc_visible": true,
      "include_colab_link": true
    },
    "kernelspec": {
      "name": "python3",
      "display_name": "Python 3"
    }
  },
  "cells": [
    {
      "cell_type": "markdown",
      "metadata": {
        "id": "view-in-github",
        "colab_type": "text"
      },
      "source": [
        "<a href=\"https://colab.research.google.com/github/rg-smith/remote_sensing_course/blob/main/labs/lab7/Lab7.ipynb\" target=\"_parent\"><img src=\"https://colab.research.google.com/assets/colab-badge.svg\" alt=\"Open In Colab\"/></a>"
      ]
    },
    {
      "cell_type": "markdown",
      "metadata": {
        "id": "wEL4beddP9LP"
      },
      "source": [
        "# Lab 7\r\n",
        "\r\n",
        "**This lab has a similar format to Lab 6, but we will view SAR imagery instead of optical imagery. You will use python (and a module called Google Earth Engine) to view the satellite imagery, evaluate properties that are being imaged, and perform calculations. The lab is divided into four parts:**\r\n",
        "\r\n",
        "**Part 1: Interpreting SAR data over Kansas**\r\n",
        "\r\n",
        "**Part 2: Interpreting SAR data over the Ozarks**\r\n",
        "\r\n",
        "**Part 3: Apply what you've learned to your term project**\r\n",
        "\r\n",
        "**Part 4: Working with InSAR data**\r\n",
        "\r\n",
        "The majority of the code here does not need to be modified, only run. The portions of code that do need to be modified will be shown clearly.\r\n",
        "\r\n",
        "Before starting the sections, we will import the modules we need, initialize Google Earth Engine, and define some functions."
      ]
    },
    {
      "cell_type": "markdown",
      "metadata": {
        "id": "PFTvpuKbQ1SY"
      },
      "source": [
        "The first block of code only needs to be run once, the first time you open your session (if you close out of the session and open again, you will need to run this again). Follow the prompts to initialize earth engine. You will be taken to a link where you need to give permission to link your google account with Google Earth Engine, then copy and paste some text below the code block."
      ]
    },
    {
      "cell_type": "code",
      "metadata": {
        "id": "bMC9C9SKMhgz"
      },
      "source": [
        "import ee\r\n",
        "import folium\r\n",
        "import numpy as np\r\n",
        "import branca.colormap as cm\r\n",
        "import gdal\r\n",
        "\r\n",
        "ee.Authenticate()\r\n",
        "ee.Initialize()\r\n",
        "\r\n",
        "!git clone https://github.com/rg-smith/remote_sensing_course.git"
      ],
      "execution_count": null,
      "outputs": []
    },
    {
      "cell_type": "markdown",
      "metadata": {
        "id": "0hD7poLQReog"
      },
      "source": [
        "This block of code also only needs to be run once. It is defining a bunch of functions that you will use in this exercise. It is not important for you to understand the code here for this exercise."
      ]
    },
    {
      "cell_type": "code",
      "metadata": {
        "id": "n-9383M2OZd1"
      },
      "source": [
        "# functions needed for this lab (and some other useful ones that you can use if you're interested)\r\n",
        "\r\n",
        "# to add a layer to our map:\r\n",
        "def add_ee_layer(self, ee_object, name, geometry):\r\n",
        "    try:    \r\n",
        "        # display ee.Image()\r\n",
        "        if isinstance(ee_object, ee.image.Image):  \r\n",
        "            range = ee.Image(ee_object).reduceRegion(ee.Reducer.percentile([1, 99]),geometry=geometry,scale=300)\r\n",
        "            vals = range.getInfo()\r\n",
        "            min=list(vals.items())[0][1]\r\n",
        "            max=list(vals.items())[1][1]\r\n",
        "            vis = {'min': min, 'max': max, 'palette': ['0000FF', 'FFFFFF','FF0000']}\r\n",
        "\r\n",
        "            map_id_dict = ee.Image(ee_object).getMapId(vis)\r\n",
        "            folium.raster_layers.TileLayer(\r\n",
        "            tiles = map_id_dict['tile_fetcher'].url_format,\r\n",
        "            attr = 'Google Earth Engine',\r\n",
        "            name = name,\r\n",
        "            overlay = True,\r\n",
        "            control = True\r\n",
        "            ).add_to(self)\r\n",
        "            colormap = cm.LinearColormap(vmin=min,vmax=max,colors=['blue', 'white','red']).to_step(n=10)\r\n",
        "            colormap.caption=name\r\n",
        "            self.add_child(colormap)\r\n",
        "        # display ee.ImageCollection()\r\n",
        "        elif isinstance(ee_object, ee.imagecollection.ImageCollection):    \r\n",
        "            ee_object_new = ee_object.mosaic()\r\n",
        "            map_id_dict = ee.Image(ee_object_new).getMapId(vis_params)\r\n",
        "            folium.raster_layers.TileLayer(\r\n",
        "            tiles = map_id_dict['tile_fetcher'].url_format,\r\n",
        "            attr = 'Google Earth Engine',\r\n",
        "            name = name,\r\n",
        "            overlay = True,\r\n",
        "            control = True\r\n",
        "            ).add_to(self)\r\n",
        "        # display ee.Geometry()\r\n",
        "        elif isinstance(ee_object, ee.geometry.Geometry):    \r\n",
        "            folium.GeoJson(\r\n",
        "            data = ee_object.getInfo(),\r\n",
        "            name = name,\r\n",
        "            overlay = True,\r\n",
        "            control = True\r\n",
        "        ).add_to(self)\r\n",
        "        # display ee.FeatureCollection()\r\n",
        "        elif isinstance(ee_object, ee.featurecollection.FeatureCollection):  \r\n",
        "            ee_object_new = ee.Image().paint(ee_object, 0, 2)\r\n",
        "            map_id_dict = ee.Image(ee_object_new).getMapId(vis_params)\r\n",
        "            folium.raster_layers.TileLayer(\r\n",
        "            tiles = map_id_dict['tile_fetcher'].url_format,\r\n",
        "            attr = 'Google Earth Engine',\r\n",
        "            name = name,\r\n",
        "            overlay = True,\r\n",
        "            control = True\r\n",
        "        ).add_to(self)\r\n",
        "    \r\n",
        "    except Exception as e: \r\n",
        "        print(\"Could not display {}\".format(name))\r\n",
        "        print(e)\r\n",
        "\r\n",
        "# to convert a google earth engine image to a python array\r\n",
        "def to_array(img,aoi):\r\n",
        "  band_arrs = img.sampleRectangle(region=aoi)\r\n",
        "\r\n",
        "  band_names=band_arrs.bandNames().getInfo()\r\n",
        "\r\n",
        "  for kk in range(len(band_names)):\r\n",
        "    if kk==0:\r\n",
        "      dat1=np.array(band_arrs.get(band_names[kk]).getInfo())\r\n",
        "      dat_full=np.zeros((dat1.shape[0],dat1.shape[1],len(band_names)))\r\n",
        "      dat_full[:,:,kk]=dat1\r\n",
        "    else:\r\n",
        "      dat=np.array(band_arrs.get(band_names[kk]).getInfo())\r\n",
        "      dat_full[:,:,kk]=dat\r\n",
        "  return(dat_full)\r\n",
        "\r\n",
        "def loadraster(rastername):\r\n",
        "    ds=gdal.Open(rastername)\r\n",
        "    band=ds.GetRasterBand(1)\r\n",
        "    data=band.ReadAsArray()\r\n",
        "    # gtr=ds.GetGeoTransform()\r\n",
        "    return data\r\n",
        "\r\n",
        "# to calculate an index\r\n",
        "def getIndex(image,b1,b2):\r\n",
        "  return image.normalizedDifference([b1, b2])\r\n",
        "\r\n",
        "# to calculate a ratio\r\n",
        "def getRatio(image1,image2):\r\n",
        "  ratio=image1.divide(image2)\r\n",
        "  return ratio\r\n",
        "\r\n",
        "# to create a color map from a specific image\r\n",
        "def getVisparams(image,aoi):\r\n",
        "  range = image.reduceRegion(ee.Reducer.percentile([1, 99]),aoi,300)\r\n",
        "  vals = range.getInfo()\r\n",
        "  min=list(vals.items())[0][1]\r\n",
        "  max=list(vals.items())[1][1]\r\n",
        "  visParams = {'min': min, 'max': max, 'palette': ['0000FF', 'FFFFFF','FF0000']}\r\n",
        "  return(visParams)\r\n",
        "\r\n",
        "# to get the link to download an earth engine image\r\n",
        "def getLink(image,aoi):\r\n",
        "  link = image.getDownloadURL({\r\n",
        "    'scale': 30,\r\n",
        "    'crs': 'EPSG:4326',\r\n",
        "    'fileFormat': 'GeoTIFF',\r\n",
        "    'region': aoi})\r\n",
        "  print(link)\r\n",
        "\r\n",
        "# create an earth engine geometry polygon\r\n",
        "def addGeometry(min_lon,max_lon,min_lat,max_lat):\r\n",
        "  import ee\r\n",
        "  geom = ee.Geometry.Polygon(\r\n",
        "      [[[min_lon, max_lat],\r\n",
        "        [min_lon, min_lat],\r\n",
        "        [max_lon, min_lat],\r\n",
        "        [max_lon, max_lat]]])\r\n",
        "  return(geom)\r\n",
        "\r\n",
        "# load landsat 8 data\r\n",
        "def get_l8_image(date1,date2,geometry):\r\n",
        "    import ee\r\n",
        "    l8 = ee.ImageCollection('LANDSAT/LC08/C01/T1_RT')\r\n",
        "    l8_img = l8.filterDate(date1,date2).filterBounds(geometry).first().clip(geometry)\r\n",
        "    return(l8_img)\r\n",
        "\r\n",
        "# load landsat 8 data and average all images within time window\r\n",
        "def get_l8_image_mean(date1,date2,geometry):\r\n",
        "    import ee\r\n",
        "    l8 = ee.ImageCollection('LANDSAT/LC08/C01/T1_RT')\r\n",
        "    l8_img = l8.filterDate(date1,date2).reduce(ee.Reducer.mean()).clip(geometry)\r\n",
        "    print('These are the available bands: ')\r\n",
        "    print(l8_img.bandNames().getInfo())\r\n",
        "    return(l8_img)\r\n",
        "\r\n",
        "# load sentinel 2 data\r\n",
        "def get_s2_image(date1,date2,geometry):\r\n",
        "    import ee\r\n",
        "    s2 = ee.ImageCollection('COPERNICUS/S2')\r\n",
        "    s2_img = s2.filterDate(date1,date2).filterBounds(geometry).first().clip(geometry)\r\n",
        "    return(s2_img)\r\n",
        "\r\n",
        "def get_s1_image(date1,date2,geometry,direction):\r\n",
        "  if direction == 'ASCENDING' or direction == 'DESCENDING':\r\n",
        "    s1 = ee.ImageCollection('COPERNICUS/S1_GRD')\r\n",
        "    s1_img = s1.filterDate(date1,date2).filterBounds(geometry).filter(ee.Filter.listContains('transmitterReceiverPolarisation', 'VV')).select('VV').filter(ee.Filter.eq('orbitProperties_pass', direction)).first()\r\n",
        "    return(s1_img)\r\n",
        "  else:\r\n",
        "    print('inputs are: date1, date2, geometry, direction. Direction should be ASCENDING or DESCENDING')\r\n",
        "\r\n",
        "# Add EE drawing method to folium.\r\n",
        "folium.Map.add_ee_layer = add_ee_layer"
      ],
      "execution_count": null,
      "outputs": []
    },
    {
      "cell_type": "markdown",
      "metadata": {
        "id": "mPB43w6tRrSW"
      },
      "source": [
        "# Part 1: Interpreting SAR data over Kansas\r\n",
        "\r\n",
        "In this section we will analyze a SAR image over southwest Kansas. This region has extensive agricultural activity, and a few cities. Think about the principles we discussed in class that cause high or low SAR amplitude:\r\n",
        "\r\n",
        "- Dielectric permittivity (i.e. water content)\r\n",
        "- Surface roughness\r\n",
        "- Geometry"
      ]
    },
    {
      "cell_type": "markdown",
      "metadata": {
        "id": "rPP3FMD4SQKM"
      },
      "source": [
        "First, we will define the study area and time period and load the Sentinel-1 data"
      ]
    },
    {
      "cell_type": "code",
      "metadata": {
        "id": "3ee4KySvtxDb"
      },
      "source": [
        "# create a bounding box that defines the study area\r\n",
        "geom_kansas = addGeometry(-100.8, -99.95,37.5,37.85) # min long, max long, min lat, max lat\r\n",
        "\r\n",
        "# define dates of interest (inclusive).\r\n",
        "start = '2017-04-01'\r\n",
        "end = '2017-05-01'\r\n",
        "\r\n",
        "# pull Sentinel-1 data over the time period and region previously defined. This pulls the first image found in the date range defined\r\n",
        "s1_img_kansas_asc = get_s1_image(start,end,geom_kansas,'ASCENDING')"
      ],
      "execution_count": null,
      "outputs": []
    },
    {
      "cell_type": "markdown",
      "metadata": {
        "id": "G6NTOA9oULq-"
      },
      "source": [
        "Now, we will view the map. Scroll to the top so you can check/uncheck layers. **Identify five features, some with high amplitude and some with low amplitude. For each feature, take a screenshot, and circle the feature. Make a table that describes whether each feature likely has high/low dielectric permittivity, high/low surface roughness, and whether it likely has a slope/aspect such that it is facing the SAR antenna, facing away from the antenna, or is flat.**\r\n",
        "\r\n",
        "Try to get a variety of features that have different properties for these categories. "
      ]
    },
    {
      "cell_type": "code",
      "metadata": {
        "id": "LclSbsmkt4Zq",
        "colab": {
          "base_uri": "https://localhost:8080/",
          "height": 685
        },
        "outputId": "83215e23-1b1c-4ef9-eb91-c56b5f4a41d0"
      },
      "source": [
        "tiles='https://server.arcgisonline.com/ArcGIS/rest/services/World_Imagery/MapServer/tile/{z}/{y}/{x}'\r\n",
        "attr=('Tiles &copy; Esri &mdash; Source: Esri, i-cubed, USDA, USGS, AEX, GeoEye, Getmapping, Aerogrid, IGN, IGP, UPR-EGP, and the GIS User Community')\r\n",
        "\r\n",
        "my_map = folium.Map(location=[37.7, -100], zoom_start=9,tiles=tiles, attr=attr)\r\n",
        "\r\n",
        "# Add the land cover to the map object.\r\n",
        "my_map.add_ee_layer(s1_img_kansas_asc,'SAR mean amplitude, ascending track',geom_kansas)\r\n",
        "my_map.add_ee_layer(geom_kansas,'bounding box',geom_kansas)\r\n",
        "#folium.GeoJson(data=irrigated_corn['geometry']).add_to(my_map)\r\n",
        "\r\n",
        "# Add a layer control panel to the map.\r\n",
        "my_map.add_child(folium.LayerControl())\r\n",
        "\r\n",
        "# Display the map.\r\n",
        "display(my_map)"
      ],
      "execution_count": null,
      "outputs": [
        {
          "output_type": "display_data",
          "data": {
            "text/html": [
              "<div style=\"width:100%;\"><div style=\"position:relative;width:100%;height:0;padding-bottom:60%;\"><span style=\"color:#565656\">Make this Notebook Trusted to load map: File -> Trust Notebook</span><iframe src=\"about:blank\" style=\"position:absolute;width:100%;height:100%;left:0;top:0;border:none !important;\" data-html=%3C%21DOCTYPE%20html%3E%0A%3Chead%3E%20%20%20%20%0A%20%20%20%20%3Cmeta%20http-equiv%3D%22content-type%22%20content%3D%22text/html%3B%20charset%3DUTF-8%22%20/%3E%0A%20%20%20%20%3Cscript%3EL_PREFER_CANVAS%3Dfalse%3B%20L_NO_TOUCH%3Dfalse%3B%20L_DISABLE_3D%3Dfalse%3B%3C/script%3E%0A%20%20%20%20%3Cscript%20src%3D%22https%3A//cdn.jsdelivr.net/npm/leaflet%401.4.0/dist/leaflet.js%22%3E%3C/script%3E%0A%20%20%20%20%3Cscript%20src%3D%22https%3A//code.jquery.com/jquery-1.12.4.min.js%22%3E%3C/script%3E%0A%20%20%20%20%3Cscript%20src%3D%22https%3A//maxcdn.bootstrapcdn.com/bootstrap/3.2.0/js/bootstrap.min.js%22%3E%3C/script%3E%0A%20%20%20%20%3Cscript%20src%3D%22https%3A//cdnjs.cloudflare.com/ajax/libs/Leaflet.awesome-markers/2.0.2/leaflet.awesome-markers.js%22%3E%3C/script%3E%0A%20%20%20%20%3Clink%20rel%3D%22stylesheet%22%20href%3D%22https%3A//cdn.jsdelivr.net/npm/leaflet%401.4.0/dist/leaflet.css%22/%3E%0A%20%20%20%20%3Clink%20rel%3D%22stylesheet%22%20href%3D%22https%3A//maxcdn.bootstrapcdn.com/bootstrap/3.2.0/css/bootstrap.min.css%22/%3E%0A%20%20%20%20%3Clink%20rel%3D%22stylesheet%22%20href%3D%22https%3A//maxcdn.bootstrapcdn.com/bootstrap/3.2.0/css/bootstrap-theme.min.css%22/%3E%0A%20%20%20%20%3Clink%20rel%3D%22stylesheet%22%20href%3D%22https%3A//maxcdn.bootstrapcdn.com/font-awesome/4.6.3/css/font-awesome.min.css%22/%3E%0A%20%20%20%20%3Clink%20rel%3D%22stylesheet%22%20href%3D%22https%3A//cdnjs.cloudflare.com/ajax/libs/Leaflet.awesome-markers/2.0.2/leaflet.awesome-markers.css%22/%3E%0A%20%20%20%20%3Clink%20rel%3D%22stylesheet%22%20href%3D%22https%3A//rawcdn.githack.com/python-visualization/folium/master/folium/templates/leaflet.awesome.rotate.css%22/%3E%0A%20%20%20%20%3Cstyle%3Ehtml%2C%20body%20%7Bwidth%3A%20100%25%3Bheight%3A%20100%25%3Bmargin%3A%200%3Bpadding%3A%200%3B%7D%3C/style%3E%0A%20%20%20%20%3Cstyle%3E%23map%20%7Bposition%3Aabsolute%3Btop%3A0%3Bbottom%3A0%3Bright%3A0%3Bleft%3A0%3B%7D%3C/style%3E%0A%20%20%20%20%0A%20%20%20%20%3Cmeta%20name%3D%22viewport%22%20content%3D%22width%3Ddevice-width%2C%0A%20%20%20%20%20%20%20%20initial-scale%3D1.0%2C%20maximum-scale%3D1.0%2C%20user-scalable%3Dno%22%20/%3E%0A%20%20%20%20%3Cstyle%3E%23map_7d6faa5ffb7344b5aad78d1edbe37911%20%7B%0A%20%20%20%20%20%20%20%20position%3A%20relative%3B%0A%20%20%20%20%20%20%20%20width%3A%20100.0%25%3B%0A%20%20%20%20%20%20%20%20height%3A%20100.0%25%3B%0A%20%20%20%20%20%20%20%20left%3A%200.0%25%3B%0A%20%20%20%20%20%20%20%20top%3A%200.0%25%3B%0A%20%20%20%20%20%20%20%20%7D%0A%20%20%20%20%3C/style%3E%0A%20%20%20%20%3Cscript%20src%3D%22https%3A//cdnjs.cloudflare.com/ajax/libs/d3/3.5.5/d3.min.js%22%3E%3C/script%3E%0A%3C/head%3E%0A%3Cbody%3E%20%20%20%20%0A%20%20%20%20%0A%20%20%20%20%3Cdiv%20class%3D%22folium-map%22%20id%3D%22map_7d6faa5ffb7344b5aad78d1edbe37911%22%20%3E%3C/div%3E%0A%3C/body%3E%0A%3Cscript%3E%20%20%20%20%0A%20%20%20%20%0A%20%20%20%20%0A%20%20%20%20%20%20%20%20var%20bounds%20%3D%20null%3B%0A%20%20%20%20%0A%0A%20%20%20%20var%20map_7d6faa5ffb7344b5aad78d1edbe37911%20%3D%20L.map%28%0A%20%20%20%20%20%20%20%20%27map_7d6faa5ffb7344b5aad78d1edbe37911%27%2C%20%7B%0A%20%20%20%20%20%20%20%20center%3A%20%5B37.7%2C%20-100%5D%2C%0A%20%20%20%20%20%20%20%20zoom%3A%209%2C%0A%20%20%20%20%20%20%20%20maxBounds%3A%20bounds%2C%0A%20%20%20%20%20%20%20%20layers%3A%20%5B%5D%2C%0A%20%20%20%20%20%20%20%20worldCopyJump%3A%20false%2C%0A%20%20%20%20%20%20%20%20crs%3A%20L.CRS.EPSG3857%2C%0A%20%20%20%20%20%20%20%20zoomControl%3A%20true%2C%0A%20%20%20%20%20%20%20%20%7D%29%3B%0A%0A%0A%20%20%20%20%0A%20%20%20%20var%20tile_layer_7919ee632ffa4a75a87bdf379fc91026%20%3D%20L.tileLayer%28%0A%20%20%20%20%20%20%20%20%27https%3A//server.arcgisonline.com/ArcGIS/rest/services/World_Imagery/MapServer/tile/%7Bz%7D/%7By%7D/%7Bx%7D%27%2C%0A%20%20%20%20%20%20%20%20%7B%0A%20%20%20%20%20%20%20%20%22attribution%22%3A%20%22Tiles%20%26copy%3B%20Esri%20%26mdash%3B%20Source%3A%20Esri%2C%20i-cubed%2C%20USDA%2C%20USGS%2C%20AEX%2C%20GeoEye%2C%20Getmapping%2C%20Aerogrid%2C%20IGN%2C%20IGP%2C%20UPR-EGP%2C%20and%20the%20GIS%20User%20Community%22%2C%0A%20%20%20%20%20%20%20%20%22detectRetina%22%3A%20false%2C%0A%20%20%20%20%20%20%20%20%22maxNativeZoom%22%3A%2018%2C%0A%20%20%20%20%20%20%20%20%22maxZoom%22%3A%2018%2C%0A%20%20%20%20%20%20%20%20%22minZoom%22%3A%200%2C%0A%20%20%20%20%20%20%20%20%22noWrap%22%3A%20false%2C%0A%20%20%20%20%20%20%20%20%22opacity%22%3A%201%2C%0A%20%20%20%20%20%20%20%20%22subdomains%22%3A%20%22abc%22%2C%0A%20%20%20%20%20%20%20%20%22tms%22%3A%20false%0A%7D%29.addTo%28map_7d6faa5ffb7344b5aad78d1edbe37911%29%3B%0A%20%20%20%20var%20tile_layer_123d5847d9c148cc91ac9e312445c26e%20%3D%20L.tileLayer%28%0A%20%20%20%20%20%20%20%20%27https%3A//earthengine.googleapis.com/v1alpha/projects/earthengine-legacy/maps/20a2df0e2a4b26df3ef75a255de07f05-43d01f8d3102151814e4fa2a443e7cdc/tiles/%7Bz%7D/%7Bx%7D/%7By%7D%27%2C%0A%20%20%20%20%20%20%20%20%7B%0A%20%20%20%20%20%20%20%20%22attribution%22%3A%20%22Google%20Earth%20Engine%22%2C%0A%20%20%20%20%20%20%20%20%22detectRetina%22%3A%20false%2C%0A%20%20%20%20%20%20%20%20%22maxNativeZoom%22%3A%2018%2C%0A%20%20%20%20%20%20%20%20%22maxZoom%22%3A%2018%2C%0A%20%20%20%20%20%20%20%20%22minZoom%22%3A%200%2C%0A%20%20%20%20%20%20%20%20%22noWrap%22%3A%20false%2C%0A%20%20%20%20%20%20%20%20%22opacity%22%3A%201%2C%0A%20%20%20%20%20%20%20%20%22subdomains%22%3A%20%22abc%22%2C%0A%20%20%20%20%20%20%20%20%22tms%22%3A%20false%0A%7D%29.addTo%28map_7d6faa5ffb7344b5aad78d1edbe37911%29%3B%0A%20%20%20%20%0A%20%20%20%20var%20color_map_21e1a04cc6a94aedaeec2e07595ff5e3%20%3D%20%7B%7D%3B%0A%0A%20%20%20%20%0A%20%20%20%20color_map_21e1a04cc6a94aedaeec2e07595ff5e3.color%20%3D%20d3.scale.threshold%28%29%0A%20%20%20%20%20%20%20%20%20%20%20%20%20%20.domain%28%5B-17.936119131227283%2C%20-17.918091602458627%2C%20-17.90006407368997%2C%20-17.882036544921313%2C%20-17.864009016152657%2C%20-17.845981487383998%2C%20-17.827953958615343%2C%20-17.809926429846684%2C%20-17.791898901078028%2C%20-17.773871372309372%2C%20-17.755843843540713%2C%20-17.737816314772058%2C%20-17.719788786003402%2C%20-17.701761257234743%2C%20-17.683733728466088%2C%20-17.665706199697432%2C%20-17.647678670928773%2C%20-17.629651142160117%2C%20-17.61162361339146%2C%20-17.593596084622803%2C%20-17.575568555854147%2C%20-17.557541027085488%2C%20-17.539513498316833%2C%20-17.521485969548177%2C%20-17.503458440779518%2C%20-17.485430912010862%2C%20-17.467403383242207%2C%20-17.449375854473548%2C%20-17.431348325704892%2C%20-17.413320796936233%2C%20-17.395293268167578%2C%20-17.377265739398922%2C%20-17.359238210630263%2C%20-17.341210681861607%2C%20-17.323183153092952%2C%20-17.305155624324293%2C%20-17.287128095555637%2C%20-17.26910056678698%2C%20-17.251073038018323%2C%20-17.233045509249667%2C%20-17.215017980481008%2C%20-17.196990451712352%2C%20-17.178962922943697%2C%20-17.160935394175038%2C%20-17.142907865406382%2C%20-17.124880336637727%2C%20-17.106852807869068%2C%20-17.088825279100412%2C%20-17.070797750331757%2C%20-17.052770221563097%2C%20-17.034742692794442%2C%20-17.016715164025783%2C%20-16.998687635257127%2C%20-16.98066010648847%2C%20-16.962632577719813%2C%20-16.944605048951157%2C%20-16.9265775201825%2C%20-16.908549991413842%2C%20-16.890522462645187%2C%20-16.87249493387653%2C%20-16.854467405107872%2C%20-16.836439876339217%2C%20-16.818412347570558%2C%20-16.800384818801902%2C%20-16.782357290033246%2C%20-16.764329761264587%2C%20-16.746302232495932%2C%20-16.728274703727276%2C%20-16.710247174958617%2C%20-16.69221964618996%2C%20-16.674192117421306%2C%20-16.656164588652647%2C%20-16.63813705988399%2C%20-16.620109531115332%2C%20-16.602082002346677%2C%20-16.58405447357802%2C%20-16.566026944809362%2C%20-16.547999416040707%2C%20-16.52997188727205%2C%20-16.511944358503392%2C%20-16.493916829734736%2C%20-16.47588930096608%2C%20-16.457861772197422%2C%20-16.439834243428766%2C%20-16.421806714660107%2C%20-16.40377918589145%2C%20-16.385751657122796%2C%20-16.367724128354137%2C%20-16.34969659958548%2C%20-16.331669070816826%2C%20-16.313641542048167%2C%20-16.29561401327951%2C%20-16.277586484510856%2C%20-16.259558955742197%2C%20-16.24153142697354%2C%20-16.223503898204886%2C%20-16.205476369436226%2C%20-16.18744884066757%2C%20-16.169421311898912%2C%20-16.151393783130256%2C%20-16.1333662543616%2C%20-16.11533872559294%2C%20-16.097311196824286%2C%20-16.07928366805563%2C%20-16.06125613928697%2C%20-16.043228610518316%2C%20-16.02520108174966%2C%20-16.007173552981%2C%20-15.989146024212346%2C%20-15.971118495443688%2C%20-15.953090966675031%2C%20-15.935063437906376%2C%20-15.917035909137718%2C%20-15.899008380369061%2C%20-15.880980851600404%2C%20-15.862953322831746%2C%20-15.84492579406309%2C%20-15.826898265294433%2C%20-15.808870736525776%2C%20-15.79084320775712%2C%20-15.772815678988463%2C%20-15.754788150219806%2C%20-15.73676062145115%2C%20-15.718733092682493%2C%20-15.700705563913836%2C%20-15.682678035145178%2C%20-15.664650506376523%2C%20-15.646622977607866%2C%20-15.628595448839208%2C%20-15.610567920070551%2C%20-15.592540391301895%2C%20-15.574512862533238%2C%20-15.55648533376458%2C%20-15.538457804995925%2C%20-15.520430276227268%2C%20-15.50240274745861%2C%20-15.484375218689953%2C%20-15.466347689921298%2C%20-15.44832016115264%2C%20-15.430292632383983%2C%20-15.412265103615326%2C%20-15.39423757484667%2C%20-15.376210046078013%2C%20-15.358182517309356%2C%20-15.3401549885407%2C%20-15.322127459772043%2C%20-15.304099931003385%2C%20-15.286072402234728%2C%20-15.268044873466073%2C%20-15.250017344697415%2C%20-15.231989815928758%2C%20-15.2139622871601%2C%20-15.195934758391445%2C%20-15.177907229622788%2C%20-15.15987970085413%2C%20-15.141852172085475%2C%20-15.123824643316818%2C%20-15.10579711454816%2C%20-15.087769585779503%2C%20-15.069742057010847%2C%20-15.05171452824219%2C%20-15.033686999473533%2C%20-15.015659470704875%2C%20-14.99763194193622%2C%20-14.979604413167563%2C%20-14.961576884398905%2C%20-14.94354935563025%2C%20-14.925521826861592%2C%20-14.907494298092935%2C%20-14.889466769324278%2C%20-14.871439240555622%2C%20-14.853411711786965%2C%20-14.835384183018308%2C%20-14.81735665424965%2C%20-14.799329125480995%2C%20-14.781301596712337%2C%20-14.76327406794368%2C%20-14.745246539175024%2C%20-14.727219010406367%2C%20-14.70919148163771%2C%20-14.691163952869053%2C%20-14.673136424100397%2C%20-14.65510889533174%2C%20-14.637081366563082%2C%20-14.619053837794425%2C%20-14.60102630902577%2C%20-14.582998780257112%2C%20-14.564971251488455%2C%20-14.5469437227198%2C%20-14.528916193951142%2C%20-14.510888665182485%2C%20-14.492861136413827%2C%20-14.474833607645172%2C%20-14.456806078876514%2C%20-14.438778550107857%2C%20-14.4207510213392%2C%20-14.402723492570544%2C%20-14.384695963801887%2C%20-14.36666843503323%2C%20-14.348640906264574%2C%20-14.330613377495917%2C%20-14.31258584872726%2C%20-14.294558319958602%2C%20-14.276530791189947%2C%20-14.25850326242129%2C%20-14.240475733652634%2C%20-14.222448204883975%2C%20-14.204420676115319%2C%20-14.186393147346662%2C%20-14.168365618578004%2C%20-14.150338089809349%2C%20-14.132310561040692%2C%20-14.114283032272034%2C%20-14.096255503503377%2C%20-14.078227974734721%2C%20-14.060200445966064%2C%20-14.042172917197409%2C%20-14.02414538842875%2C%20-14.006117859660094%2C%20-13.988090330891437%2C%20-13.97006280212278%2C%20-13.952035273354124%2C%20-13.934007744585466%2C%20-13.915980215816809%2C%20-13.897952687048154%2C%20-13.879925158279494%2C%20-13.861897629510839%2C%20-13.843870100742183%2C%20-13.825842571973524%2C%20-13.807815043204869%2C%20-13.789787514436211%2C%20-13.771759985667554%2C%20-13.753732456898899%2C%20-13.735704928130241%2C%20-13.717677399361584%2C%20-13.699649870592928%2C%20-13.681622341824271%2C%20-13.663594813055614%2C%20-13.645567284286956%2C%20-13.627539755518299%2C%20-13.609512226749644%2C%20-13.591484697980986%2C%20-13.573457169212329%2C%20-13.555429640443673%2C%20-13.537402111675016%2C%20-13.519374582906359%2C%20-13.501347054137703%2C%20-13.483319525369044%2C%20-13.465291996600389%2C%20-13.447264467831733%2C%20-13.429236939063074%2C%20-13.411209410294418%2C%20-13.393181881525763%2C%20-13.375154352757104%2C%20-13.357126823988448%2C%20-13.33909929521979%2C%20-13.321071766451134%2C%20-13.303044237682478%2C%20-13.28501670891382%2C%20-13.266989180145163%2C%20-13.248961651376506%2C%20-13.230934122607849%2C%20-13.212906593839193%2C%20-13.194879065070536%2C%20-13.176851536301879%2C%20-13.158824007533223%2C%20-13.140796478764566%2C%20-13.122768949995908%2C%20-13.104741421227253%2C%20-13.086713892458594%2C%20-13.068686363689938%2C%20-13.050658834921283%2C%20-13.032631306152624%2C%20-13.014603777383968%2C%20-12.996576248615312%2C%20-12.978548719846653%2C%20-12.960521191077998%2C%20-12.94249366230934%2C%20-12.924466133540683%2C%20-12.906438604772028%2C%20-12.88841107600337%2C%20-12.870383547234713%2C%20-12.852356018466057%2C%20-12.834328489697398%2C%20-12.816300960928743%2C%20-12.798273432160086%2C%20-12.780245903391428%2C%20-12.762218374622773%2C%20-12.744190845854115%2C%20-12.726163317085458%2C%20-12.708135788316802%2C%20-12.690108259548143%2C%20-12.672080730779488%2C%20-12.654053202010832%2C%20-12.636025673242173%2C%20-12.617998144473518%2C%20-12.599970615704862%2C%20-12.581943086936205%2C%20-12.563915558167547%2C%20-12.54588802939889%2C%20-12.527860500630233%2C%20-12.509832971861577%2C%20-12.49180544309292%2C%20-12.473777914324263%2C%20-12.455750385555607%2C%20-12.437722856786948%2C%20-12.419695328018292%2C%20-12.401667799249635%2C%20-12.383640270480978%2C%20-12.365612741712322%2C%20-12.347585212943665%2C%20-12.329557684175008%2C%20-12.311530155406352%2C%20-12.293502626637693%2C%20-12.275475097869037%2C%20-12.257447569100382%2C%20-12.239420040331723%2C%20-12.221392511563067%2C%20-12.203364982794412%2C%20-12.185337454025754%2C%20-12.167309925257097%2C%20-12.14928239648844%2C%20-12.131254867719782%2C%20-12.113227338951127%2C%20-12.09519981018247%2C%20-12.077172281413812%2C%20-12.059144752645157%2C%20-12.0411172238765%2C%20-12.023089695107842%2C%20-12.005062166339185%2C%20-11.987034637570527%2C%20-11.969007108801872%2C%20-11.950979580033215%2C%20-11.932952051264557%2C%20-11.914924522495902%2C%20-11.896896993727244%2C%20-11.878869464958587%2C%20-11.860841936189932%2C%20-11.842814407421272%2C%20-11.824786878652617%2C%20-11.806759349883961%2C%20-11.788731821115304%2C%20-11.770704292346647%2C%20-11.75267676357799%2C%20-11.734649234809332%2C%20-11.716621706040677%2C%20-11.69859417727202%2C%20-11.680566648503362%2C%20-11.662539119734706%2C%20-11.644511590966049%2C%20-11.626484062197392%2C%20-11.608456533428734%2C%20-11.590429004660077%2C%20-11.572401475891422%2C%20-11.554373947122764%2C%20-11.536346418354107%2C%20-11.518318889585451%2C%20-11.500291360816794%2C%20-11.482263832048137%2C%20-11.464236303279481%2C%20-11.446208774510822%2C%20-11.428181245742167%2C%20-11.410153716973511%2C%20-11.392126188204854%2C%20-11.374098659436196%2C%20-11.35607113066754%2C%20-11.338043601898882%2C%20-11.320016073130226%2C%20-11.301988544361569%2C%20-11.283961015592912%2C%20-11.265933486824256%2C%20-11.247905958055599%2C%20-11.229878429286941%2C%20-11.211850900518284%2C%20-11.193823371749627%2C%20-11.175795842980971%2C%20-11.157768314212314%2C%20-11.139740785443657%2C%20-11.121713256675001%2C%20-11.103685727906344%2C%20-11.085658199137686%2C%20-11.06763067036903%2C%20-11.049603141600372%2C%20-11.031575612831716%2C%20-11.01354808406306%2C%20-10.995520555294403%2C%20-10.977493026525746%2C%20-10.95946549775709%2C%20-10.941437968988431%2C%20-10.923410440219776%2C%20-10.905382911451118%2C%20-10.887355382682461%2C%20-10.869327853913806%2C%20-10.851300325145148%2C%20-10.833272796376491%2C%20-10.815245267607835%2C%20-10.797217738839176%2C%20-10.77919021007052%2C%20-10.761162681301863%2C%20-10.743135152533206%2C%20-10.72510762376455%2C%20-10.707080094995893%2C%20-10.689052566227236%2C%20-10.67102503745858%2C%20-10.652997508689921%2C%20-10.634969979921266%2C%20-10.61694245115261%2C%20-10.598914922383953%2C%20-10.580887393615296%2C%20-10.56285986484664%2C%20-10.544832336077983%2C%20-10.526804807309325%2C%20-10.508777278540668%2C%20-10.49074974977201%2C%20-10.472722221003355%2C%20-10.454694692234698%2C%20-10.43666716346604%2C%20-10.418639634697385%2C%20-10.400612105928726%2C%20-10.38258457716007%2C%20-10.364557048391413%2C%20-10.346529519622756%2C%20-10.3285019908541%2C%20-10.310474462085443%2C%20-10.292446933316786%2C%20-10.27441940454813%2C%20-10.256391875779471%2C%20-10.238364347010815%2C%20-10.22033681824216%2C%20-10.202309289473503%2C%20-10.184281760704845%2C%20-10.16625423193619%2C%20-10.148226703167532%2C%20-10.130199174398875%2C%20-10.112171645630218%2C%20-10.09414411686156%2C%20-10.076116588092905%2C%20-10.058089059324248%2C%20-10.04006153055559%2C%20-10.022034001786935%2C%20-10.004006473018277%2C%20-9.98597894424962%2C%20-9.967951415480963%2C%20-9.949923886712305%2C%20-9.93189635794365%2C%20-9.913868829174993%2C%20-9.895841300406337%2C%20-9.87781377163768%2C%20-9.859786242869022%2C%20-9.841758714100365%2C%20-9.823731185331708%2C%20-9.805703656563052%2C%20-9.787676127794395%2C%20-9.769648599025738%2C%20-9.751621070257082%2C%20-9.733593541488425%2C%20-9.715566012719767%2C%20-9.697538483951112%2C%20-9.679510955182455%2C%20-9.661483426413799%2C%20-9.64345589764514%2C%20-9.625428368876483%2C%20-9.607400840107827%2C%20-9.58937331133917%2C%20-9.571345782570512%2C%20-9.553318253801857%2C%20-9.5352907250332%2C%20-9.517263196264542%2C%20-9.499235667495887%2C%20-9.48120813872723%2C%20-9.463180609958572%2C%20-9.445153081189916%2C%20-9.42712555242126%2C%20-9.409098023652602%2C%20-9.391070494883946%2C%20-9.373042966115287%2C%20-9.35501543734663%2C%20-9.336987908577974%2C%20-9.318960379809317%2C%20-9.30093285104066%2C%20-9.282905322272004%2C%20-9.264877793503347%2C%20-9.24685026473469%2C%20-9.228822735966034%2C%20-9.210795207197377%2C%20-9.19276767842872%2C%20-9.174740149660064%2C%20-9.156712620891406%2C%20-9.13868509212275%2C%20-9.120657563354094%2C%20-9.102630034585435%2C%20-9.084602505816777%2C%20-9.066574977048122%2C%20-9.048547448279464%2C%20-9.030519919510807%2C%20-9.012492390742151%2C%20-8.994464861973494%2C%20-8.976437333204837%2C%20-8.958409804436181%2C%20-8.940382275667524%5D%29%0A%20%20%20%20%20%20%20%20%20%20%20%20%20%20.range%28%5B%27%230000ffff%27%2C%20%27%230000ffff%27%2C%20%27%230000ffff%27%2C%20%27%230000ffff%27%2C%20%27%230000ffff%27%2C%20%27%230000ffff%27%2C%20%27%230000ffff%27%2C%20%27%230000ffff%27%2C%20%27%230000ffff%27%2C%20%27%230000ffff%27%2C%20%27%230000ffff%27%2C%20%27%230000ffff%27%2C%20%27%230000ffff%27%2C%20%27%230000ffff%27%2C%20%27%230000ffff%27%2C%20%27%230000ffff%27%2C%20%27%230000ffff%27%2C%20%27%230000ffff%27%2C%20%27%230000ffff%27%2C%20%27%230000ffff%27%2C%20%27%230000ffff%27%2C%20%27%230000ffff%27%2C%20%27%230000ffff%27%2C%20%27%230000ffff%27%2C%20%27%230000ffff%27%2C%20%27%230000ffff%27%2C%20%27%230000ffff%27%2C%20%27%230000ffff%27%2C%20%27%230000ffff%27%2C%20%27%230000ffff%27%2C%20%27%230000ffff%27%2C%20%27%230000ffff%27%2C%20%27%230000ffff%27%2C%20%27%230000ffff%27%2C%20%27%230000ffff%27%2C%20%27%230000ffff%27%2C%20%27%230000ffff%27%2C%20%27%230000ffff%27%2C%20%27%230000ffff%27%2C%20%27%230000ffff%27%2C%20%27%230000ffff%27%2C%20%27%230000ffff%27%2C%20%27%230000ffff%27%2C%20%27%230000ffff%27%2C%20%27%230000ffff%27%2C%20%27%230000ffff%27%2C%20%27%230000ffff%27%2C%20%27%230000ffff%27%2C%20%27%230000ffff%27%2C%20%27%230000ffff%27%2C%20%27%233838ffff%27%2C%20%27%233838ffff%27%2C%20%27%233838ffff%27%2C%20%27%233838ffff%27%2C%20%27%233838ffff%27%2C%20%27%233838ffff%27%2C%20%27%233838ffff%27%2C%20%27%233838ffff%27%2C%20%27%233838ffff%27%2C%20%27%233838ffff%27%2C%20%27%233838ffff%27%2C%20%27%233838ffff%27%2C%20%27%233838ffff%27%2C%20%27%233838ffff%27%2C%20%27%233838ffff%27%2C%20%27%233838ffff%27%2C%20%27%233838ffff%27%2C%20%27%233838ffff%27%2C%20%27%233838ffff%27%2C%20%27%233838ffff%27%2C%20%27%233838ffff%27%2C%20%27%233838ffff%27%2C%20%27%233838ffff%27%2C%20%27%233838ffff%27%2C%20%27%233838ffff%27%2C%20%27%233838ffff%27%2C%20%27%233838ffff%27%2C%20%27%233838ffff%27%2C%20%27%233838ffff%27%2C%20%27%233838ffff%27%2C%20%27%233838ffff%27%2C%20%27%233838ffff%27%2C%20%27%233838ffff%27%2C%20%27%233838ffff%27%2C%20%27%233838ffff%27%2C%20%27%233838ffff%27%2C%20%27%233838ffff%27%2C%20%27%233838ffff%27%2C%20%27%233838ffff%27%2C%20%27%233838ffff%27%2C%20%27%233838ffff%27%2C%20%27%233838ffff%27%2C%20%27%233838ffff%27%2C%20%27%233838ffff%27%2C%20%27%233838ffff%27%2C%20%27%233838ffff%27%2C%20%27%233838ffff%27%2C%20%27%233838ffff%27%2C%20%27%233838ffff%27%2C%20%27%233838ffff%27%2C%20%27%237171ffff%27%2C%20%27%237171ffff%27%2C%20%27%237171ffff%27%2C%20%27%237171ffff%27%2C%20%27%237171ffff%27%2C%20%27%237171ffff%27%2C%20%27%237171ffff%27%2C%20%27%237171ffff%27%2C%20%27%237171ffff%27%2C%20%27%237171ffff%27%2C%20%27%237171ffff%27%2C%20%27%237171ffff%27%2C%20%27%237171ffff%27%2C%20%27%237171ffff%27%2C%20%27%237171ffff%27%2C%20%27%237171ffff%27%2C%20%27%237171ffff%27%2C%20%27%237171ffff%27%2C%20%27%237171ffff%27%2C%20%27%237171ffff%27%2C%20%27%237171ffff%27%2C%20%27%237171ffff%27%2C%20%27%237171ffff%27%2C%20%27%237171ffff%27%2C%20%27%237171ffff%27%2C%20%27%237171ffff%27%2C%20%27%237171ffff%27%2C%20%27%237171ffff%27%2C%20%27%237171ffff%27%2C%20%27%237171ffff%27%2C%20%27%237171ffff%27%2C%20%27%237171ffff%27%2C%20%27%237171ffff%27%2C%20%27%237171ffff%27%2C%20%27%237171ffff%27%2C%20%27%237171ffff%27%2C%20%27%237171ffff%27%2C%20%27%237171ffff%27%2C%20%27%237171ffff%27%2C%20%27%237171ffff%27%2C%20%27%237171ffff%27%2C%20%27%237171ffff%27%2C%20%27%237171ffff%27%2C%20%27%237171ffff%27%2C%20%27%237171ffff%27%2C%20%27%237171ffff%27%2C%20%27%237171ffff%27%2C%20%27%237171ffff%27%2C%20%27%237171ffff%27%2C%20%27%237171ffff%27%2C%20%27%23aaaaffff%27%2C%20%27%23aaaaffff%27%2C%20%27%23aaaaffff%27%2C%20%27%23aaaaffff%27%2C%20%27%23aaaaffff%27%2C%20%27%23aaaaffff%27%2C%20%27%23aaaaffff%27%2C%20%27%23aaaaffff%27%2C%20%27%23aaaaffff%27%2C%20%27%23aaaaffff%27%2C%20%27%23aaaaffff%27%2C%20%27%23aaaaffff%27%2C%20%27%23aaaaffff%27%2C%20%27%23aaaaffff%27%2C%20%27%23aaaaffff%27%2C%20%27%23aaaaffff%27%2C%20%27%23aaaaffff%27%2C%20%27%23aaaaffff%27%2C%20%27%23aaaaffff%27%2C%20%27%23aaaaffff%27%2C%20%27%23aaaaffff%27%2C%20%27%23aaaaffff%27%2C%20%27%23aaaaffff%27%2C%20%27%23aaaaffff%27%2C%20%27%23aaaaffff%27%2C%20%27%23aaaaffff%27%2C%20%27%23aaaaffff%27%2C%20%27%23aaaaffff%27%2C%20%27%23aaaaffff%27%2C%20%27%23aaaaffff%27%2C%20%27%23aaaaffff%27%2C%20%27%23aaaaffff%27%2C%20%27%23aaaaffff%27%2C%20%27%23aaaaffff%27%2C%20%27%23aaaaffff%27%2C%20%27%23aaaaffff%27%2C%20%27%23aaaaffff%27%2C%20%27%23aaaaffff%27%2C%20%27%23aaaaffff%27%2C%20%27%23aaaaffff%27%2C%20%27%23aaaaffff%27%2C%20%27%23aaaaffff%27%2C%20%27%23aaaaffff%27%2C%20%27%23aaaaffff%27%2C%20%27%23aaaaffff%27%2C%20%27%23aaaaffff%27%2C%20%27%23aaaaffff%27%2C%20%27%23aaaaffff%27%2C%20%27%23aaaaffff%27%2C%20%27%23aaaaffff%27%2C%20%27%23e3e3ffff%27%2C%20%27%23e3e3ffff%27%2C%20%27%23e3e3ffff%27%2C%20%27%23e3e3ffff%27%2C%20%27%23e3e3ffff%27%2C%20%27%23e3e3ffff%27%2C%20%27%23e3e3ffff%27%2C%20%27%23e3e3ffff%27%2C%20%27%23e3e3ffff%27%2C%20%27%23e3e3ffff%27%2C%20%27%23e3e3ffff%27%2C%20%27%23e3e3ffff%27%2C%20%27%23e3e3ffff%27%2C%20%27%23e3e3ffff%27%2C%20%27%23e3e3ffff%27%2C%20%27%23e3e3ffff%27%2C%20%27%23e3e3ffff%27%2C%20%27%23e3e3ffff%27%2C%20%27%23e3e3ffff%27%2C%20%27%23e3e3ffff%27%2C%20%27%23e3e3ffff%27%2C%20%27%23e3e3ffff%27%2C%20%27%23e3e3ffff%27%2C%20%27%23e3e3ffff%27%2C%20%27%23e3e3ffff%27%2C%20%27%23e3e3ffff%27%2C%20%27%23e3e3ffff%27%2C%20%27%23e3e3ffff%27%2C%20%27%23e3e3ffff%27%2C%20%27%23e3e3ffff%27%2C%20%27%23e3e3ffff%27%2C%20%27%23e3e3ffff%27%2C%20%27%23e3e3ffff%27%2C%20%27%23e3e3ffff%27%2C%20%27%23e3e3ffff%27%2C%20%27%23e3e3ffff%27%2C%20%27%23e3e3ffff%27%2C%20%27%23e3e3ffff%27%2C%20%27%23e3e3ffff%27%2C%20%27%23e3e3ffff%27%2C%20%27%23e3e3ffff%27%2C%20%27%23e3e3ffff%27%2C%20%27%23e3e3ffff%27%2C%20%27%23e3e3ffff%27%2C%20%27%23e3e3ffff%27%2C%20%27%23e3e3ffff%27%2C%20%27%23e3e3ffff%27%2C%20%27%23e3e3ffff%27%2C%20%27%23e3e3ffff%27%2C%20%27%23e3e3ffff%27%2C%20%27%23ffe3e3ff%27%2C%20%27%23ffe3e3ff%27%2C%20%27%23ffe3e3ff%27%2C%20%27%23ffe3e3ff%27%2C%20%27%23ffe3e3ff%27%2C%20%27%23ffe3e3ff%27%2C%20%27%23ffe3e3ff%27%2C%20%27%23ffe3e3ff%27%2C%20%27%23ffe3e3ff%27%2C%20%27%23ffe3e3ff%27%2C%20%27%23ffe3e3ff%27%2C%20%27%23ffe3e3ff%27%2C%20%27%23ffe3e3ff%27%2C%20%27%23ffe3e3ff%27%2C%20%27%23ffe3e3ff%27%2C%20%27%23ffe3e3ff%27%2C%20%27%23ffe3e3ff%27%2C%20%27%23ffe3e3ff%27%2C%20%27%23ffe3e3ff%27%2C%20%27%23ffe3e3ff%27%2C%20%27%23ffe3e3ff%27%2C%20%27%23ffe3e3ff%27%2C%20%27%23ffe3e3ff%27%2C%20%27%23ffe3e3ff%27%2C%20%27%23ffe3e3ff%27%2C%20%27%23ffe3e3ff%27%2C%20%27%23ffe3e3ff%27%2C%20%27%23ffe3e3ff%27%2C%20%27%23ffe3e3ff%27%2C%20%27%23ffe3e3ff%27%2C%20%27%23ffe3e3ff%27%2C%20%27%23ffe3e3ff%27%2C%20%27%23ffe3e3ff%27%2C%20%27%23ffe3e3ff%27%2C%20%27%23ffe3e3ff%27%2C%20%27%23ffe3e3ff%27%2C%20%27%23ffe3e3ff%27%2C%20%27%23ffe3e3ff%27%2C%20%27%23ffe3e3ff%27%2C%20%27%23ffe3e3ff%27%2C%20%27%23ffe3e3ff%27%2C%20%27%23ffe3e3ff%27%2C%20%27%23ffe3e3ff%27%2C%20%27%23ffe3e3ff%27%2C%20%27%23ffe3e3ff%27%2C%20%27%23ffe3e3ff%27%2C%20%27%23ffe3e3ff%27%2C%20%27%23ffe3e3ff%27%2C%20%27%23ffe3e3ff%27%2C%20%27%23ffe3e3ff%27%2C%20%27%23ffaaaaff%27%2C%20%27%23ffaaaaff%27%2C%20%27%23ffaaaaff%27%2C%20%27%23ffaaaaff%27%2C%20%27%23ffaaaaff%27%2C%20%27%23ffaaaaff%27%2C%20%27%23ffaaaaff%27%2C%20%27%23ffaaaaff%27%2C%20%27%23ffaaaaff%27%2C%20%27%23ffaaaaff%27%2C%20%27%23ffaaaaff%27%2C%20%27%23ffaaaaff%27%2C%20%27%23ffaaaaff%27%2C%20%27%23ffaaaaff%27%2C%20%27%23ffaaaaff%27%2C%20%27%23ffaaaaff%27%2C%20%27%23ffaaaaff%27%2C%20%27%23ffaaaaff%27%2C%20%27%23ffaaaaff%27%2C%20%27%23ffaaaaff%27%2C%20%27%23ffaaaaff%27%2C%20%27%23ffaaaaff%27%2C%20%27%23ffaaaaff%27%2C%20%27%23ffaaaaff%27%2C%20%27%23ffaaaaff%27%2C%20%27%23ffaaaaff%27%2C%20%27%23ffaaaaff%27%2C%20%27%23ffaaaaff%27%2C%20%27%23ffaaaaff%27%2C%20%27%23ffaaaaff%27%2C%20%27%23ffaaaaff%27%2C%20%27%23ffaaaaff%27%2C%20%27%23ffaaaaff%27%2C%20%27%23ffaaaaff%27%2C%20%27%23ffaaaaff%27%2C%20%27%23ffaaaaff%27%2C%20%27%23ffaaaaff%27%2C%20%27%23ffaaaaff%27%2C%20%27%23ffaaaaff%27%2C%20%27%23ffaaaaff%27%2C%20%27%23ffaaaaff%27%2C%20%27%23ffaaaaff%27%2C%20%27%23ffaaaaff%27%2C%20%27%23ffaaaaff%27%2C%20%27%23ffaaaaff%27%2C%20%27%23ffaaaaff%27%2C%20%27%23ffaaaaff%27%2C%20%27%23ffaaaaff%27%2C%20%27%23ffaaaaff%27%2C%20%27%23ffaaaaff%27%2C%20%27%23ff7171ff%27%2C%20%27%23ff7171ff%27%2C%20%27%23ff7171ff%27%2C%20%27%23ff7171ff%27%2C%20%27%23ff7171ff%27%2C%20%27%23ff7171ff%27%2C%20%27%23ff7171ff%27%2C%20%27%23ff7171ff%27%2C%20%27%23ff7171ff%27%2C%20%27%23ff7171ff%27%2C%20%27%23ff7171ff%27%2C%20%27%23ff7171ff%27%2C%20%27%23ff7171ff%27%2C%20%27%23ff7171ff%27%2C%20%27%23ff7171ff%27%2C%20%27%23ff7171ff%27%2C%20%27%23ff7171ff%27%2C%20%27%23ff7171ff%27%2C%20%27%23ff7171ff%27%2C%20%27%23ff7171ff%27%2C%20%27%23ff7171ff%27%2C%20%27%23ff7171ff%27%2C%20%27%23ff7171ff%27%2C%20%27%23ff7171ff%27%2C%20%27%23ff7171ff%27%2C%20%27%23ff7171ff%27%2C%20%27%23ff7171ff%27%2C%20%27%23ff7171ff%27%2C%20%27%23ff7171ff%27%2C%20%27%23ff7171ff%27%2C%20%27%23ff7171ff%27%2C%20%27%23ff7171ff%27%2C%20%27%23ff7171ff%27%2C%20%27%23ff7171ff%27%2C%20%27%23ff7171ff%27%2C%20%27%23ff7171ff%27%2C%20%27%23ff7171ff%27%2C%20%27%23ff7171ff%27%2C%20%27%23ff7171ff%27%2C%20%27%23ff7171ff%27%2C%20%27%23ff7171ff%27%2C%20%27%23ff7171ff%27%2C%20%27%23ff7171ff%27%2C%20%27%23ff7171ff%27%2C%20%27%23ff7171ff%27%2C%20%27%23ff7171ff%27%2C%20%27%23ff7171ff%27%2C%20%27%23ff7171ff%27%2C%20%27%23ff7171ff%27%2C%20%27%23ff7171ff%27%2C%20%27%23ff3838ff%27%2C%20%27%23ff3838ff%27%2C%20%27%23ff3838ff%27%2C%20%27%23ff3838ff%27%2C%20%27%23ff3838ff%27%2C%20%27%23ff3838ff%27%2C%20%27%23ff3838ff%27%2C%20%27%23ff3838ff%27%2C%20%27%23ff3838ff%27%2C%20%27%23ff3838ff%27%2C%20%27%23ff3838ff%27%2C%20%27%23ff3838ff%27%2C%20%27%23ff3838ff%27%2C%20%27%23ff3838ff%27%2C%20%27%23ff3838ff%27%2C%20%27%23ff3838ff%27%2C%20%27%23ff3838ff%27%2C%20%27%23ff3838ff%27%2C%20%27%23ff3838ff%27%2C%20%27%23ff3838ff%27%2C%20%27%23ff3838ff%27%2C%20%27%23ff3838ff%27%2C%20%27%23ff3838ff%27%2C%20%27%23ff3838ff%27%2C%20%27%23ff3838ff%27%2C%20%27%23ff3838ff%27%2C%20%27%23ff3838ff%27%2C%20%27%23ff3838ff%27%2C%20%27%23ff3838ff%27%2C%20%27%23ff3838ff%27%2C%20%27%23ff3838ff%27%2C%20%27%23ff3838ff%27%2C%20%27%23ff3838ff%27%2C%20%27%23ff3838ff%27%2C%20%27%23ff3838ff%27%2C%20%27%23ff3838ff%27%2C%20%27%23ff3838ff%27%2C%20%27%23ff3838ff%27%2C%20%27%23ff3838ff%27%2C%20%27%23ff3838ff%27%2C%20%27%23ff3838ff%27%2C%20%27%23ff3838ff%27%2C%20%27%23ff3838ff%27%2C%20%27%23ff3838ff%27%2C%20%27%23ff3838ff%27%2C%20%27%23ff3838ff%27%2C%20%27%23ff3838ff%27%2C%20%27%23ff3838ff%27%2C%20%27%23ff3838ff%27%2C%20%27%23ff3838ff%27%2C%20%27%23ff0000ff%27%2C%20%27%23ff0000ff%27%2C%20%27%23ff0000ff%27%2C%20%27%23ff0000ff%27%2C%20%27%23ff0000ff%27%2C%20%27%23ff0000ff%27%2C%20%27%23ff0000ff%27%2C%20%27%23ff0000ff%27%2C%20%27%23ff0000ff%27%2C%20%27%23ff0000ff%27%2C%20%27%23ff0000ff%27%2C%20%27%23ff0000ff%27%2C%20%27%23ff0000ff%27%2C%20%27%23ff0000ff%27%2C%20%27%23ff0000ff%27%2C%20%27%23ff0000ff%27%2C%20%27%23ff0000ff%27%2C%20%27%23ff0000ff%27%2C%20%27%23ff0000ff%27%2C%20%27%23ff0000ff%27%2C%20%27%23ff0000ff%27%2C%20%27%23ff0000ff%27%2C%20%27%23ff0000ff%27%2C%20%27%23ff0000ff%27%2C%20%27%23ff0000ff%27%2C%20%27%23ff0000ff%27%2C%20%27%23ff0000ff%27%2C%20%27%23ff0000ff%27%2C%20%27%23ff0000ff%27%2C%20%27%23ff0000ff%27%2C%20%27%23ff0000ff%27%2C%20%27%23ff0000ff%27%2C%20%27%23ff0000ff%27%2C%20%27%23ff0000ff%27%2C%20%27%23ff0000ff%27%2C%20%27%23ff0000ff%27%2C%20%27%23ff0000ff%27%2C%20%27%23ff0000ff%27%2C%20%27%23ff0000ff%27%2C%20%27%23ff0000ff%27%2C%20%27%23ff0000ff%27%2C%20%27%23ff0000ff%27%2C%20%27%23ff0000ff%27%2C%20%27%23ff0000ff%27%2C%20%27%23ff0000ff%27%2C%20%27%23ff0000ff%27%2C%20%27%23ff0000ff%27%2C%20%27%23ff0000ff%27%2C%20%27%23ff0000ff%27%2C%20%27%23ff0000ff%27%5D%29%3B%0A%20%20%20%20%0A%0A%20%20%20%20color_map_21e1a04cc6a94aedaeec2e07595ff5e3.x%20%3D%20d3.scale.linear%28%29%0A%20%20%20%20%20%20%20%20%20%20%20%20%20%20.domain%28%5B-17.936119131227283%2C%20-8.940382275667524%5D%29%0A%20%20%20%20%20%20%20%20%20%20%20%20%20%20.range%28%5B0%2C%20400%5D%29%3B%0A%0A%20%20%20%20color_map_21e1a04cc6a94aedaeec2e07595ff5e3.legend%20%3D%20L.control%28%7Bposition%3A%20%27topright%27%7D%29%3B%0A%20%20%20%20color_map_21e1a04cc6a94aedaeec2e07595ff5e3.legend.onAdd%20%3D%20function%20%28map%29%20%7Bvar%20div%20%3D%20L.DomUtil.create%28%27div%27%2C%20%27legend%27%29%3B%20return%20div%7D%3B%0A%20%20%20%20color_map_21e1a04cc6a94aedaeec2e07595ff5e3.legend.addTo%28map_7d6faa5ffb7344b5aad78d1edbe37911%29%3B%0A%0A%20%20%20%20color_map_21e1a04cc6a94aedaeec2e07595ff5e3.xAxis%20%3D%20d3.svg.axis%28%29%0A%20%20%20%20%20%20%20%20.scale%28color_map_21e1a04cc6a94aedaeec2e07595ff5e3.x%29%0A%20%20%20%20%20%20%20%20.orient%28%22top%22%29%0A%20%20%20%20%20%20%20%20.tickSize%281%29%0A%20%20%20%20%20%20%20%20.tickValues%28%5B-17.936119131227283%2C%20%27%27%2C%20-16.13697176011533%2C%20%27%27%2C%20-14.33782438900338%2C%20%27%27%2C%20-12.538677017891427%2C%20%27%27%2C%20-10.739529646779475%2C%20%27%27%2C%20-8.940382275667524%2C%20%27%27%5D%29%3B%0A%0A%20%20%20%20color_map_21e1a04cc6a94aedaeec2e07595ff5e3.svg%20%3D%20d3.select%28%22.legend.leaflet-control%22%29.append%28%22svg%22%29%0A%20%20%20%20%20%20%20%20.attr%28%22id%22%2C%20%27legend%27%29%0A%20%20%20%20%20%20%20%20.attr%28%22width%22%2C%20450%29%0A%20%20%20%20%20%20%20%20.attr%28%22height%22%2C%2040%29%3B%0A%0A%20%20%20%20color_map_21e1a04cc6a94aedaeec2e07595ff5e3.g%20%3D%20color_map_21e1a04cc6a94aedaeec2e07595ff5e3.svg.append%28%22g%22%29%0A%20%20%20%20%20%20%20%20.attr%28%22class%22%2C%20%22key%22%29%0A%20%20%20%20%20%20%20%20.attr%28%22transform%22%2C%20%22translate%2825%2C16%29%22%29%3B%0A%0A%20%20%20%20color_map_21e1a04cc6a94aedaeec2e07595ff5e3.g.selectAll%28%22rect%22%29%0A%20%20%20%20%20%20%20%20.data%28color_map_21e1a04cc6a94aedaeec2e07595ff5e3.color.range%28%29.map%28function%28d%2C%20i%29%20%7B%0A%20%20%20%20%20%20%20%20%20%20return%20%7B%0A%20%20%20%20%20%20%20%20%20%20%20%20x0%3A%20i%20%3F%20color_map_21e1a04cc6a94aedaeec2e07595ff5e3.x%28color_map_21e1a04cc6a94aedaeec2e07595ff5e3.color.domain%28%29%5Bi%20-%201%5D%29%20%3A%20color_map_21e1a04cc6a94aedaeec2e07595ff5e3.x.range%28%29%5B0%5D%2C%0A%20%20%20%20%20%20%20%20%20%20%20%20x1%3A%20i%20%3C%20color_map_21e1a04cc6a94aedaeec2e07595ff5e3.color.domain%28%29.length%20%3F%20color_map_21e1a04cc6a94aedaeec2e07595ff5e3.x%28color_map_21e1a04cc6a94aedaeec2e07595ff5e3.color.domain%28%29%5Bi%5D%29%20%3A%20color_map_21e1a04cc6a94aedaeec2e07595ff5e3.x.range%28%29%5B1%5D%2C%0A%20%20%20%20%20%20%20%20%20%20%20%20z%3A%20d%0A%20%20%20%20%20%20%20%20%20%20%7D%3B%0A%20%20%20%20%20%20%20%20%7D%29%29%0A%20%20%20%20%20%20.enter%28%29.append%28%22rect%22%29%0A%20%20%20%20%20%20%20%20.attr%28%22height%22%2C%2010%29%0A%20%20%20%20%20%20%20%20.attr%28%22x%22%2C%20function%28d%29%20%7B%20return%20d.x0%3B%20%7D%29%0A%20%20%20%20%20%20%20%20.attr%28%22width%22%2C%20function%28d%29%20%7B%20return%20d.x1%20-%20d.x0%3B%20%7D%29%0A%20%20%20%20%20%20%20%20.style%28%22fill%22%2C%20function%28d%29%20%7B%20return%20d.z%3B%20%7D%29%3B%0A%0A%20%20%20%20color_map_21e1a04cc6a94aedaeec2e07595ff5e3.g.call%28color_map_21e1a04cc6a94aedaeec2e07595ff5e3.xAxis%29.append%28%22text%22%29%0A%20%20%20%20%20%20%20%20.attr%28%22class%22%2C%20%22caption%22%29%0A%20%20%20%20%20%20%20%20.attr%28%22y%22%2C%2021%29%0A%20%20%20%20%20%20%20%20.text%28%27SAR%20mean%20amplitude%2C%20ascending%20track%27%29%3B%0A%20%20%20%20%0A%20%20%20%20%20%20%20%20var%20geo_json_db3a5f6b45704d91a20a0b5445788c24%20%3D%20L.geoJson%28%0A%20%20%20%20%20%20%20%20%20%20%20%20%7B%22features%22%3A%20%5B%7B%22geometry%22%3A%20%7B%22coordinates%22%3A%20%5B%5B%5B-100.8%2C%2037.5%5D%2C%20%5B-99.95%2C%2037.5%5D%2C%20%5B-99.95%2C%2037.85%5D%2C%20%5B-100.8%2C%2037.85%5D%2C%20%5B-100.8%2C%2037.5%5D%5D%5D%2C%20%22type%22%3A%20%22Polygon%22%7D%2C%20%22properties%22%3A%20%7B%22highlight%22%3A%20%7B%7D%2C%20%22style%22%3A%20%7B%7D%7D%2C%20%22type%22%3A%20%22Feature%22%7D%5D%2C%20%22type%22%3A%20%22FeatureCollection%22%7D%2C%0A%20%20%20%20%20%20%20%20%20%20%20%20%7B%0A%20%20%20%20%20%20%20%20%20%20%20%20%7D%0A%20%20%20%20%20%20%20%20%29.addTo%28map_7d6faa5ffb7344b5aad78d1edbe37911%20%29%3B%0A%20%20%20%20%20%20%20%20geo_json_db3a5f6b45704d91a20a0b5445788c24.setStyle%28function%28feature%29%20%7Breturn%20feature.properties.style%3B%7D%29%3B%0A%20%20%20%20%20%20%20%20%0A%20%20%20%20%0A%20%20%20%20%20%20%20%20%20%20%20%20var%20layer_control_dcd0f005d5c345da9f4ec1a6bda84de8%20%3D%20%7B%0A%20%20%20%20%20%20%20%20%20%20%20%20%20%20%20%20base_layers%20%3A%20%7B%20%22https%3A//server.arcgisonline.com/arcgis/rest/services/world_imagery/mapserver/tile/%7Bz%7D/%7By%7D/%7Bx%7D%22%20%3A%20tile_layer_7919ee632ffa4a75a87bdf379fc91026%2C%20%7D%2C%0A%20%20%20%20%20%20%20%20%20%20%20%20%20%20%20%20overlays%20%3A%20%7B%20%22SAR%20mean%20amplitude%2C%20ascending%20track%22%20%3A%20tile_layer_123d5847d9c148cc91ac9e312445c26e%2C%22bounding%20box%22%20%3A%20geo_json_db3a5f6b45704d91a20a0b5445788c24%2C%20%7D%0A%20%20%20%20%20%20%20%20%20%20%20%20%20%20%20%20%7D%3B%0A%20%20%20%20%20%20%20%20%20%20%20%20L.control.layers%28%0A%20%20%20%20%20%20%20%20%20%20%20%20%20%20%20%20layer_control_dcd0f005d5c345da9f4ec1a6bda84de8.base_layers%2C%0A%20%20%20%20%20%20%20%20%20%20%20%20%20%20%20%20layer_control_dcd0f005d5c345da9f4ec1a6bda84de8.overlays%2C%0A%20%20%20%20%20%20%20%20%20%20%20%20%20%20%20%20%7Bposition%3A%20%27topright%27%2C%0A%20%20%20%20%20%20%20%20%20%20%20%20%20%20%20%20%20collapsed%3A%20true%2C%0A%20%20%20%20%20%20%20%20%20%20%20%20%20%20%20%20%20autoZIndex%3A%20true%0A%20%20%20%20%20%20%20%20%20%20%20%20%20%20%20%20%7D%29.addTo%28map_7d6faa5ffb7344b5aad78d1edbe37911%29%3B%0A%20%20%20%20%20%20%20%20%20%20%20%20%0A%20%20%20%20%20%20%20%20%0A%3C/script%3E onload=\"this.contentDocument.open();this.contentDocument.write(    decodeURIComponent(this.getAttribute('data-html')));this.contentDocument.close();\" allowfullscreen webkitallowfullscreen mozallowfullscreen></iframe></div></div>"
            ],
            "text/plain": [
              "<folium.folium.Map at 0x7fba73d8b610>"
            ]
          },
          "metadata": {
            "tags": []
          }
        }
      ]
    },
    {
      "cell_type": "markdown",
      "metadata": {
        "id": "tR37-cMAVARE"
      },
      "source": [
        "Now, we will download the SAR amplitude, clipped by the bounding box. Load this into ArcMap. Load the 'CornIrr2017.shp' shapefile into ArcMap as well. This is a shapefile of irrigated corn fields in 2017. Do the irrigated fields have higher or lower amplitude than other fields? Why?"
      ]
    },
    {
      "cell_type": "code",
      "metadata": {
        "colab": {
          "base_uri": "https://localhost:8080/"
        },
        "id": "Lz83KHaegOPk",
        "outputId": "9734db4e-5ccf-4f4e-c04f-b34714e8473c"
      },
      "source": [
        "s1_img_small=s1_img_kansas_asc.clip(geom_kansas)\r\n",
        "print('SAR amplitude:')\r\n",
        "getLink(s1_img_small,geom_kansas)"
      ],
      "execution_count": null,
      "outputs": [
        {
          "output_type": "stream",
          "text": [
            "SAR amplitude:\n",
            "https://earthengine.googleapis.com/v1alpha/projects/earthengine-legacy/thumbnails/84833f16f566d7948f12837d57ab0302-8ac3d4ce480c60d272453f0d1ff0bf2d:getPixels\n"
          ],
          "name": "stdout"
        }
      ]
    },
    {
      "cell_type": "markdown",
      "metadata": {
        "id": "pXw_oaR9Si0J"
      },
      "source": [
        "# Part 2: Interpreting SAR data over Missouri\r\n",
        "\r\n",
        "For this section, we will repeat Part 1, but over the Ozarks in Missouri. Notice how the features that stand out have some similarities and some differences with the optical data you viewed in the previous lab."
      ]
    },
    {
      "cell_type": "code",
      "metadata": {
        "id": "ov0AgBbuSmsX"
      },
      "source": [
        "# create a bounding box that defines the study area. This will cover the Lake of the Ozarks region\r\n",
        "geom_ozarks = addGeometry(-92.62,-93.42,38.04,38.40) # min long, max long, min lat, max lat\r\n",
        "\r\n",
        "# define dates of interest (inclusive).\r\n",
        "start = '2017-01-01'\r\n",
        "end = '2017-04-01'\r\n",
        "\r\n",
        "# pull landsat image over the study area and dates defined\r\n",
        "s1_img_ozarks_asc = get_s1_image(start,end,geom_ozarks,'ASCENDING')"
      ],
      "execution_count": null,
      "outputs": []
    },
    {
      "cell_type": "markdown",
      "metadata": {
        "id": "XYQbJiMJWZy-"
      },
      "source": [
        "Now, you will display the map. **Notice that because the algorithm pulls the first image that intersects the bounding box, in this case it is only covering a small portion of the box. That's OK for this exercise, we just want to view some SAR imagery. **\r\n",
        "\r\n",
        "**Add to your existing table a water feature from the Ozarks SAR image below. Include a screenshot, and all the properties listed in part 1.**\r\n",
        "\r\n",
        "Try to get a variety of features that have different properties for these categories."
      ]
    },
    {
      "cell_type": "code",
      "metadata": {
        "id": "RuRFha_Vv-IN",
        "colab": {
          "base_uri": "https://localhost:8080/",
          "height": 685
        },
        "outputId": "3a112266-71ef-458c-df56-8527220fb033"
      },
      "source": [
        "tiles='https://server.arcgisonline.com/ArcGIS/rest/services/World_Imagery/MapServer/tile/{z}/{y}/{x}'\r\n",
        "attr=('Tiles &copy; Esri &mdash; Source: Esri, i-cubed, USDA, USGS, AEX, GeoEye, Getmapping, Aerogrid, IGN, IGP, UPR-EGP, and the GIS User Community')\r\n",
        "\r\n",
        "my_map = folium.Map(location=[38.1, -92.92], zoom_start=9,tiles=tiles, attr=attr)\r\n",
        "\r\n",
        "# Add the land cover to the map object.\r\n",
        "my_map.add_ee_layer(s1_img_ozarks_asc,'SAR mean amplitude, ascending track',geom_ozarks)\r\n",
        "my_map.add_ee_layer(geom_ozarks,'bounding box',geom_ozarks)\r\n",
        "\r\n",
        "# Add a layer control panel to the map.\r\n",
        "my_map.add_child(folium.LayerControl())\r\n",
        "\r\n",
        "# Display the map.\r\n",
        "display(my_map)"
      ],
      "execution_count": null,
      "outputs": [
        {
          "output_type": "display_data",
          "data": {
            "text/html": [
              "<div style=\"width:100%;\"><div style=\"position:relative;width:100%;height:0;padding-bottom:60%;\"><span style=\"color:#565656\">Make this Notebook Trusted to load map: File -> Trust Notebook</span><iframe src=\"about:blank\" style=\"position:absolute;width:100%;height:100%;left:0;top:0;border:none !important;\" data-html=%3C%21DOCTYPE%20html%3E%0A%3Chead%3E%20%20%20%20%0A%20%20%20%20%3Cmeta%20http-equiv%3D%22content-type%22%20content%3D%22text/html%3B%20charset%3DUTF-8%22%20/%3E%0A%20%20%20%20%3Cscript%3EL_PREFER_CANVAS%3Dfalse%3B%20L_NO_TOUCH%3Dfalse%3B%20L_DISABLE_3D%3Dfalse%3B%3C/script%3E%0A%20%20%20%20%3Cscript%20src%3D%22https%3A//cdn.jsdelivr.net/npm/leaflet%401.4.0/dist/leaflet.js%22%3E%3C/script%3E%0A%20%20%20%20%3Cscript%20src%3D%22https%3A//code.jquery.com/jquery-1.12.4.min.js%22%3E%3C/script%3E%0A%20%20%20%20%3Cscript%20src%3D%22https%3A//maxcdn.bootstrapcdn.com/bootstrap/3.2.0/js/bootstrap.min.js%22%3E%3C/script%3E%0A%20%20%20%20%3Cscript%20src%3D%22https%3A//cdnjs.cloudflare.com/ajax/libs/Leaflet.awesome-markers/2.0.2/leaflet.awesome-markers.js%22%3E%3C/script%3E%0A%20%20%20%20%3Clink%20rel%3D%22stylesheet%22%20href%3D%22https%3A//cdn.jsdelivr.net/npm/leaflet%401.4.0/dist/leaflet.css%22/%3E%0A%20%20%20%20%3Clink%20rel%3D%22stylesheet%22%20href%3D%22https%3A//maxcdn.bootstrapcdn.com/bootstrap/3.2.0/css/bootstrap.min.css%22/%3E%0A%20%20%20%20%3Clink%20rel%3D%22stylesheet%22%20href%3D%22https%3A//maxcdn.bootstrapcdn.com/bootstrap/3.2.0/css/bootstrap-theme.min.css%22/%3E%0A%20%20%20%20%3Clink%20rel%3D%22stylesheet%22%20href%3D%22https%3A//maxcdn.bootstrapcdn.com/font-awesome/4.6.3/css/font-awesome.min.css%22/%3E%0A%20%20%20%20%3Clink%20rel%3D%22stylesheet%22%20href%3D%22https%3A//cdnjs.cloudflare.com/ajax/libs/Leaflet.awesome-markers/2.0.2/leaflet.awesome-markers.css%22/%3E%0A%20%20%20%20%3Clink%20rel%3D%22stylesheet%22%20href%3D%22https%3A//rawcdn.githack.com/python-visualization/folium/master/folium/templates/leaflet.awesome.rotate.css%22/%3E%0A%20%20%20%20%3Cstyle%3Ehtml%2C%20body%20%7Bwidth%3A%20100%25%3Bheight%3A%20100%25%3Bmargin%3A%200%3Bpadding%3A%200%3B%7D%3C/style%3E%0A%20%20%20%20%3Cstyle%3E%23map%20%7Bposition%3Aabsolute%3Btop%3A0%3Bbottom%3A0%3Bright%3A0%3Bleft%3A0%3B%7D%3C/style%3E%0A%20%20%20%20%0A%20%20%20%20%3Cmeta%20name%3D%22viewport%22%20content%3D%22width%3Ddevice-width%2C%0A%20%20%20%20%20%20%20%20initial-scale%3D1.0%2C%20maximum-scale%3D1.0%2C%20user-scalable%3Dno%22%20/%3E%0A%20%20%20%20%3Cstyle%3E%23map_fdd9cae9c87f45d7b1a5d43701c6ca85%20%7B%0A%20%20%20%20%20%20%20%20position%3A%20relative%3B%0A%20%20%20%20%20%20%20%20width%3A%20100.0%25%3B%0A%20%20%20%20%20%20%20%20height%3A%20100.0%25%3B%0A%20%20%20%20%20%20%20%20left%3A%200.0%25%3B%0A%20%20%20%20%20%20%20%20top%3A%200.0%25%3B%0A%20%20%20%20%20%20%20%20%7D%0A%20%20%20%20%3C/style%3E%0A%20%20%20%20%3Cscript%20src%3D%22https%3A//cdnjs.cloudflare.com/ajax/libs/d3/3.5.5/d3.min.js%22%3E%3C/script%3E%0A%3C/head%3E%0A%3Cbody%3E%20%20%20%20%0A%20%20%20%20%0A%20%20%20%20%3Cdiv%20class%3D%22folium-map%22%20id%3D%22map_fdd9cae9c87f45d7b1a5d43701c6ca85%22%20%3E%3C/div%3E%0A%3C/body%3E%0A%3Cscript%3E%20%20%20%20%0A%20%20%20%20%0A%20%20%20%20%0A%20%20%20%20%20%20%20%20var%20bounds%20%3D%20null%3B%0A%20%20%20%20%0A%0A%20%20%20%20var%20map_fdd9cae9c87f45d7b1a5d43701c6ca85%20%3D%20L.map%28%0A%20%20%20%20%20%20%20%20%27map_fdd9cae9c87f45d7b1a5d43701c6ca85%27%2C%20%7B%0A%20%20%20%20%20%20%20%20center%3A%20%5B38.1%2C%20-92.92%5D%2C%0A%20%20%20%20%20%20%20%20zoom%3A%209%2C%0A%20%20%20%20%20%20%20%20maxBounds%3A%20bounds%2C%0A%20%20%20%20%20%20%20%20layers%3A%20%5B%5D%2C%0A%20%20%20%20%20%20%20%20worldCopyJump%3A%20false%2C%0A%20%20%20%20%20%20%20%20crs%3A%20L.CRS.EPSG3857%2C%0A%20%20%20%20%20%20%20%20zoomControl%3A%20true%2C%0A%20%20%20%20%20%20%20%20%7D%29%3B%0A%0A%0A%20%20%20%20%0A%20%20%20%20var%20tile_layer_7995bb966e1a4114b03b8829dddc28c2%20%3D%20L.tileLayer%28%0A%20%20%20%20%20%20%20%20%27https%3A//server.arcgisonline.com/ArcGIS/rest/services/World_Imagery/MapServer/tile/%7Bz%7D/%7By%7D/%7Bx%7D%27%2C%0A%20%20%20%20%20%20%20%20%7B%0A%20%20%20%20%20%20%20%20%22attribution%22%3A%20%22Tiles%20%26copy%3B%20Esri%20%26mdash%3B%20Source%3A%20Esri%2C%20i-cubed%2C%20USDA%2C%20USGS%2C%20AEX%2C%20GeoEye%2C%20Getmapping%2C%20Aerogrid%2C%20IGN%2C%20IGP%2C%20UPR-EGP%2C%20and%20the%20GIS%20User%20Community%22%2C%0A%20%20%20%20%20%20%20%20%22detectRetina%22%3A%20false%2C%0A%20%20%20%20%20%20%20%20%22maxNativeZoom%22%3A%2018%2C%0A%20%20%20%20%20%20%20%20%22maxZoom%22%3A%2018%2C%0A%20%20%20%20%20%20%20%20%22minZoom%22%3A%200%2C%0A%20%20%20%20%20%20%20%20%22noWrap%22%3A%20false%2C%0A%20%20%20%20%20%20%20%20%22opacity%22%3A%201%2C%0A%20%20%20%20%20%20%20%20%22subdomains%22%3A%20%22abc%22%2C%0A%20%20%20%20%20%20%20%20%22tms%22%3A%20false%0A%7D%29.addTo%28map_fdd9cae9c87f45d7b1a5d43701c6ca85%29%3B%0A%20%20%20%20var%20tile_layer_bcfa95e1ae3141a689c7973e6d390af8%20%3D%20L.tileLayer%28%0A%20%20%20%20%20%20%20%20%27https%3A//earthengine.googleapis.com/v1alpha/projects/earthengine-legacy/maps/a3f95cb61d09cb98df20a20a37a4ba11-38d65bdf4503833fb96ccf0a7982e2d3/tiles/%7Bz%7D/%7Bx%7D/%7By%7D%27%2C%0A%20%20%20%20%20%20%20%20%7B%0A%20%20%20%20%20%20%20%20%22attribution%22%3A%20%22Google%20Earth%20Engine%22%2C%0A%20%20%20%20%20%20%20%20%22detectRetina%22%3A%20false%2C%0A%20%20%20%20%20%20%20%20%22maxNativeZoom%22%3A%2018%2C%0A%20%20%20%20%20%20%20%20%22maxZoom%22%3A%2018%2C%0A%20%20%20%20%20%20%20%20%22minZoom%22%3A%200%2C%0A%20%20%20%20%20%20%20%20%22noWrap%22%3A%20false%2C%0A%20%20%20%20%20%20%20%20%22opacity%22%3A%201%2C%0A%20%20%20%20%20%20%20%20%22subdomains%22%3A%20%22abc%22%2C%0A%20%20%20%20%20%20%20%20%22tms%22%3A%20false%0A%7D%29.addTo%28map_fdd9cae9c87f45d7b1a5d43701c6ca85%29%3B%0A%20%20%20%20%0A%20%20%20%20var%20color_map_c88dfaee88ea4ad79e7a92030f896bc2%20%3D%20%7B%7D%3B%0A%0A%20%20%20%20%0A%20%20%20%20color_map_c88dfaee88ea4ad79e7a92030f896bc2.color%20%3D%20d3.scale.threshold%28%29%0A%20%20%20%20%20%20%20%20%20%20%20%20%20%20.domain%28%5B-23.079737638877024%2C%20-23.046900199821124%2C%20-23.014062760765224%2C%20-22.981225321709324%2C%20-22.948387882653424%2C%20-22.915550443597525%2C%20-22.882713004541625%2C%20-22.849875565485725%2C%20-22.817038126429825%2C%20-22.784200687373925%2C%20-22.751363248318025%2C%20-22.718525809262125%2C%20-22.685688370206226%2C%20-22.652850931150326%2C%20-22.620013492094426%2C%20-22.587176053038526%2C%20-22.554338613982626%2C%20-22.521501174926726%2C%20-22.488663735870826%2C%20-22.455826296814926%2C%20-22.422988857759027%2C%20-22.390151418703127%2C%20-22.357313979647227%2C%20-22.324476540591327%2C%20-22.291639101535427%2C%20-22.258801662479527%2C%20-22.225964223423627%2C%20-22.193126784367728%2C%20-22.160289345311828%2C%20-22.127451906255928%2C%20-22.094614467200028%2C%20-22.061777028144128%2C%20-22.02893958908823%2C%20-21.99610215003233%2C%20-21.96326471097643%2C%20-21.93042727192053%2C%20-21.89758983286463%2C%20-21.86475239380873%2C%20-21.83191495475283%2C%20-21.79907751569693%2C%20-21.76624007664103%2C%20-21.73340263758513%2C%20-21.70056519852923%2C%20-21.66772775947333%2C%20-21.63489032041743%2C%20-21.60205288136153%2C%20-21.56921544230563%2C%20-21.53637800324973%2C%20-21.50354056419383%2C%20-21.47070312513793%2C%20-21.43786568608203%2C%20-21.40502824702613%2C%20-21.37219080797023%2C%20-21.33935336891433%2C%20-21.30651592985843%2C%20-21.27367849080253%2C%20-21.24084105174663%2C%20-21.20800361269073%2C%20-21.175166173634832%2C%20-21.142328734578932%2C%20-21.109491295523032%2C%20-21.076653856467132%2C%20-21.043816417411232%2C%20-21.010978978355332%2C%20-20.978141539299433%2C%20-20.945304100243533%2C%20-20.912466661187633%2C%20-20.879629222131733%2C%20-20.846791783075833%2C%20-20.813954344019933%2C%20-20.781116904964033%2C%20-20.748279465908134%2C%20-20.715442026852234%2C%20-20.682604587796334%2C%20-20.649767148740434%2C%20-20.616929709684534%2C%20-20.584092270628634%2C%20-20.551254831572734%2C%20-20.518417392516834%2C%20-20.485579953460935%2C%20-20.452742514405035%2C%20-20.419905075349135%2C%20-20.387067636293235%2C%20-20.354230197237335%2C%20-20.321392758181435%2C%20-20.288555319125535%2C%20-20.255717880069636%2C%20-20.222880441013736%2C%20-20.190043001957836%2C%20-20.157205562901936%2C%20-20.124368123846036%2C%20-20.091530684790136%2C%20-20.058693245734236%2C%20-20.025855806678337%2C%20-19.993018367622437%2C%20-19.960180928566537%2C%20-19.927343489510637%2C%20-19.894506050454737%2C%20-19.861668611398837%2C%20-19.828831172342937%2C%20-19.795993733287037%2C%20-19.763156294231138%2C%20-19.730318855175238%2C%20-19.697481416119338%2C%20-19.664643977063438%2C%20-19.631806538007538%2C%20-19.59896909895164%2C%20-19.56613165989574%2C%20-19.53329422083984%2C%20-19.50045678178394%2C%20-19.46761934272804%2C%20-19.43478190367214%2C%20-19.40194446461624%2C%20-19.36910702556034%2C%20-19.33626958650444%2C%20-19.30343214744854%2C%20-19.27059470839264%2C%20-19.23775726933674%2C%20-19.20491983028084%2C%20-19.17208239122494%2C%20-19.13924495216904%2C%20-19.10640751311314%2C%20-19.07357007405724%2C%20-19.04073263500134%2C%20-19.00789519594544%2C%20-18.97505775688954%2C%20-18.94222031783364%2C%20-18.90938287877774%2C%20-18.87654543972184%2C%20-18.84370800066594%2C%20-18.81087056161004%2C%20-18.77803312255414%2C%20-18.745195683498242%2C%20-18.712358244442342%2C%20-18.679520805386442%2C%20-18.646683366330542%2C%20-18.613845927274642%2C%20-18.581008488218743%2C%20-18.548171049162843%2C%20-18.515333610106943%2C%20-18.482496171051043%2C%20-18.449658731995143%2C%20-18.416821292939243%2C%20-18.383983853883343%2C%20-18.351146414827443%2C%20-18.318308975771544%2C%20-18.285471536715644%2C%20-18.252634097659744%2C%20-18.219796658603844%2C%20-18.186959219547944%2C%20-18.154121780492044%2C%20-18.121284341436144%2C%20-18.088446902380245%2C%20-18.055609463324345%2C%20-18.022772024268445%2C%20-17.989934585212545%2C%20-17.957097146156645%2C%20-17.924259707100745%2C%20-17.891422268044845%2C%20-17.858584828988946%2C%20-17.825747389933046%2C%20-17.792909950877146%2C%20-17.760072511821246%2C%20-17.727235072765346%2C%20-17.694397633709446%2C%20-17.661560194653546%2C%20-17.628722755597646%2C%20-17.595885316541747%2C%20-17.563047877485847%2C%20-17.530210438429947%2C%20-17.497372999374047%2C%20-17.464535560318147%2C%20-17.431698121262247%2C%20-17.398860682206347%2C%20-17.366023243150448%2C%20-17.333185804094548%2C%20-17.300348365038648%2C%20-17.267510925982748%2C%20-17.234673486926848%2C%20-17.201836047870948%2C%20-17.16899860881505%2C%20-17.13616116975915%2C%20-17.10332373070325%2C%20-17.07048629164735%2C%20-17.03764885259145%2C%20-17.00481141353555%2C%20-16.97197397447965%2C%20-16.93913653542375%2C%20-16.90629909636785%2C%20-16.87346165731195%2C%20-16.84062421825605%2C%20-16.80778677920015%2C%20-16.77494934014425%2C%20-16.74211190108835%2C%20-16.70927446203245%2C%20-16.67643702297655%2C%20-16.64359958392065%2C%20-16.61076214486475%2C%20-16.57792470580885%2C%20-16.54508726675295%2C%20-16.51224982769705%2C%20-16.47941238864115%2C%20-16.44657494958525%2C%20-16.41373751052935%2C%20-16.38090007147345%2C%20-16.34806263241755%2C%20-16.315225193361652%2C%20-16.282387754305752%2C%20-16.249550315249852%2C%20-16.216712876193952%2C%20-16.183875437138052%2C%20-16.151037998082153%2C%20-16.118200559026253%2C%20-16.085363119970353%2C%20-16.052525680914453%2C%20-16.019688241858553%2C%20-15.986850802802653%2C%20-15.954013363746753%2C%20-15.921175924690854%2C%20-15.888338485634954%2C%20-15.855501046579054%2C%20-15.822663607523154%2C%20-15.789826168467254%2C%20-15.756988729411354%2C%20-15.724151290355454%2C%20-15.691313851299554%2C%20-15.658476412243655%2C%20-15.625638973187755%2C%20-15.592801534131855%2C%20-15.559964095075955%2C%20-15.527126656020055%2C%20-15.494289216964155%2C%20-15.461451777908255%2C%20-15.428614338852356%2C%20-15.395776899796456%2C%20-15.362939460740556%2C%20-15.330102021684656%2C%20-15.297264582628756%2C%20-15.264427143572856%2C%20-15.231589704516956%2C%20-15.198752265461057%2C%20-15.165914826405157%2C%20-15.133077387349257%2C%20-15.100239948293357%2C%20-15.067402509237457%2C%20-15.034565070181557%2C%20-15.001727631125657%2C%20-14.968890192069757%2C%20-14.936052753013858%2C%20-14.903215313957958%2C%20-14.870377874902058%2C%20-14.837540435846158%2C%20-14.804702996790258%2C%20-14.771865557734358%2C%20-14.739028118678458%2C%20-14.706190679622559%2C%20-14.673353240566659%2C%20-14.640515801510759%2C%20-14.607678362454859%2C%20-14.574840923398959%2C%20-14.54200348434306%2C%20-14.50916604528716%2C%20-14.47632860623126%2C%20-14.44349116717536%2C%20-14.41065372811946%2C%20-14.37781628906356%2C%20-14.34497885000766%2C%20-14.31214141095176%2C%20-14.27930397189586%2C%20-14.24646653283996%2C%20-14.21362909378406%2C%20-14.18079165472816%2C%20-14.14795421567226%2C%20-14.115116776616361%2C%20-14.082279337560461%2C%20-14.049441898504561%2C%20-14.016604459448661%2C%20-13.983767020392762%2C%20-13.950929581336862%2C%20-13.918092142280962%2C%20-13.885254703225062%2C%20-13.852417264169162%2C%20-13.819579825113264%2C%20-13.786742386057362%2C%20-13.753904947001462%2C%20-13.721067507945563%2C%20-13.688230068889663%2C%20-13.655392629833763%2C%20-13.622555190777863%2C%20-13.589717751721963%2C%20-13.556880312666063%2C%20-13.524042873610163%2C%20-13.491205434554264%2C%20-13.458367995498364%2C%20-13.425530556442464%2C%20-13.392693117386564%2C%20-13.359855678330664%2C%20-13.327018239274764%2C%20-13.294180800218864%2C%20-13.261343361162965%2C%20-13.228505922107065%2C%20-13.195668483051165%2C%20-13.162831043995265%2C%20-13.129993604939365%2C%20-13.097156165883465%2C%20-13.064318726827565%2C%20-13.031481287771665%2C%20-12.998643848715764%2C%20-12.965806409659866%2C%20-12.932968970603966%2C%20-12.900131531548066%2C%20-12.867294092492166%2C%20-12.834456653436266%2C%20-12.801619214380366%2C%20-12.768781775324467%2C%20-12.735944336268567%2C%20-12.703106897212667%2C%20-12.670269458156767%2C%20-12.637432019100867%2C%20-12.604594580044967%2C%20-12.571757140989067%2C%20-12.538919701933168%2C%20-12.506082262877268%2C%20-12.473244823821368%2C%20-12.440407384765468%2C%20-12.407569945709568%2C%20-12.374732506653668%2C%20-12.341895067597768%2C%20-12.309057628541868%2C%20-12.276220189485969%2C%20-12.243382750430069%2C%20-12.210545311374169%2C%20-12.177707872318269%2C%20-12.14487043326237%2C%20-12.11203299420647%2C%20-12.07919555515057%2C%20-12.04635811609467%2C%20-12.01352067703877%2C%20-11.98068323798287%2C%20-11.94784579892697%2C%20-11.91500835987107%2C%20-11.88217092081517%2C%20-11.84933348175927%2C%20-11.81649604270337%2C%20-11.78365860364747%2C%20-11.75082116459157%2C%20-11.717983725535671%2C%20-11.685146286479771%2C%20-11.652308847423871%2C%20-11.619471408367971%2C%20-11.586633969312071%2C%20-11.553796530256172%2C%20-11.520959091200272%2C%20-11.488121652144372%2C%20-11.455284213088472%2C%20-11.422446774032572%2C%20-11.389609334976672%2C%20-11.356771895920772%2C%20-11.323934456864873%2C%20-11.291097017808974%2C%20-11.258259578753073%2C%20-11.225422139697173%2C%20-11.192584700641273%2C%20-11.159747261585373%2C%20-11.126909822529473%2C%20-11.094072383473573%2C%20-11.061234944417674%2C%20-11.028397505361774%2C%20-10.995560066305874%2C%20-10.962722627249974%2C%20-10.929885188194074%2C%20-10.897047749138174%2C%20-10.864210310082274%2C%20-10.831372871026375%2C%20-10.798535431970475%2C%20-10.765697992914575%2C%20-10.732860553858675%2C%20-10.700023114802775%2C%20-10.667185675746875%2C%20-10.634348236690975%2C%20-10.601510797635076%2C%20-10.568673358579176%2C%20-10.535835919523276%2C%20-10.502998480467376%2C%20-10.470161041411478%2C%20-10.437323602355576%2C%20-10.404486163299676%2C%20-10.371648724243776%2C%20-10.338811285187877%2C%20-10.305973846131977%2C%20-10.273136407076077%2C%20-10.240298968020177%2C%20-10.207461528964277%2C%20-10.174624089908377%2C%20-10.141786650852477%2C%20-10.108949211796578%2C%20-10.076111772740678%2C%20-10.043274333684778%2C%20-10.010436894628878%2C%20-9.977599455572978%2C%20-9.944762016517078%2C%20-9.911924577461178%2C%20-9.879087138405279%2C%20-9.846249699349379%2C%20-9.813412260293479%2C%20-9.780574821237579%2C%20-9.747737382181679%2C%20-9.71489994312578%2C%20-9.68206250406988%2C%20-9.649225065013978%2C%20-9.61638762595808%2C%20-9.58355018690218%2C%20-9.55071274784628%2C%20-9.51787530879038%2C%20-9.48503786973448%2C%20-9.45220043067858%2C%20-9.41936299162268%2C%20-9.38652555256678%2C%20-9.35368811351088%2C%20-9.32085067445498%2C%20-9.288013235399081%2C%20-9.255175796343181%2C%20-9.222338357287281%2C%20-9.189500918231381%2C%20-9.156663479175482%2C%20-9.123826040119582%2C%20-9.090988601063682%2C%20-9.058151162007782%2C%20-9.025313722951882%2C%20-8.992476283895982%2C%20-8.959638844840082%2C%20-8.926801405784182%2C%20-8.893963966728283%2C%20-8.861126527672383%2C%20-8.828289088616483%2C%20-8.795451649560583%2C%20-8.762614210504683%2C%20-8.729776771448783%2C%20-8.696939332392883%2C%20-8.664101893336984%2C%20-8.631264454281084%2C%20-8.598427015225184%2C%20-8.565589576169284%2C%20-8.532752137113384%2C%20-8.499914698057484%2C%20-8.467077259001584%2C%20-8.434239819945685%2C%20-8.401402380889785%2C%20-8.368564941833885%2C%20-8.335727502777985%2C%20-8.302890063722085%2C%20-8.270052624666185%2C%20-8.237215185610285%2C%20-8.204377746554385%2C%20-8.171540307498486%2C%20-8.138702868442586%2C%20-8.105865429386686%2C%20-8.073027990330786%2C%20-8.040190551274886%2C%20-8.007353112218986%2C%20-7.974515673163086%2C%20-7.941678234107188%2C%20-7.908840795051287%2C%20-7.876003355995387%2C%20-7.843165916939487%2C%20-7.810328477883587%2C%20-7.777491038827687%2C%20-7.744653599771787%2C%20-7.7118161607158875%2C%20-7.678978721659988%2C%20-7.646141282604088%2C%20-7.613303843548188%2C%20-7.580466404492288%2C%20-7.547628965436388%2C%20-7.514791526380488%2C%20-7.481954087324588%2C%20-7.449116648268689%2C%20-7.416279209212789%2C%20-7.383441770156889%2C%20-7.350604331100989%2C%20-7.317766892045089%2C%20-7.284929452989189%2C%20-7.252092013933289%2C%20-7.2192545748773895%2C%20-7.18641713582149%2C%20-7.15357969676559%2C%20-7.120742257709688%2C%20-7.08790481865379%2C%20-7.05506737959789%2C%20-7.02222994054199%2C%20-6.9893925014860905%2C%20-6.956555062430191%2C%20-6.923717623374291%2C%20-6.890880184318391%2C%20-6.858042745262491%2C%20-6.825205306206591%2C%20-6.792367867150691%2C%20-6.759530428094791%2C%20-6.726692989038892%2C%20-6.693855549982992%5D%29%0A%20%20%20%20%20%20%20%20%20%20%20%20%20%20.range%28%5B%27%230000ffff%27%2C%20%27%230000ffff%27%2C%20%27%230000ffff%27%2C%20%27%230000ffff%27%2C%20%27%230000ffff%27%2C%20%27%230000ffff%27%2C%20%27%230000ffff%27%2C%20%27%230000ffff%27%2C%20%27%230000ffff%27%2C%20%27%230000ffff%27%2C%20%27%230000ffff%27%2C%20%27%230000ffff%27%2C%20%27%230000ffff%27%2C%20%27%230000ffff%27%2C%20%27%230000ffff%27%2C%20%27%230000ffff%27%2C%20%27%230000ffff%27%2C%20%27%230000ffff%27%2C%20%27%230000ffff%27%2C%20%27%230000ffff%27%2C%20%27%230000ffff%27%2C%20%27%230000ffff%27%2C%20%27%230000ffff%27%2C%20%27%230000ffff%27%2C%20%27%230000ffff%27%2C%20%27%230000ffff%27%2C%20%27%230000ffff%27%2C%20%27%230000ffff%27%2C%20%27%230000ffff%27%2C%20%27%230000ffff%27%2C%20%27%230000ffff%27%2C%20%27%230000ffff%27%2C%20%27%230000ffff%27%2C%20%27%230000ffff%27%2C%20%27%230000ffff%27%2C%20%27%230000ffff%27%2C%20%27%230000ffff%27%2C%20%27%230000ffff%27%2C%20%27%230000ffff%27%2C%20%27%230000ffff%27%2C%20%27%230000ffff%27%2C%20%27%230000ffff%27%2C%20%27%230000ffff%27%2C%20%27%230000ffff%27%2C%20%27%230000ffff%27%2C%20%27%230000ffff%27%2C%20%27%230000ffff%27%2C%20%27%230000ffff%27%2C%20%27%230000ffff%27%2C%20%27%230000ffff%27%2C%20%27%233838ffff%27%2C%20%27%233838ffff%27%2C%20%27%233838ffff%27%2C%20%27%233838ffff%27%2C%20%27%233838ffff%27%2C%20%27%233838ffff%27%2C%20%27%233838ffff%27%2C%20%27%233838ffff%27%2C%20%27%233838ffff%27%2C%20%27%233838ffff%27%2C%20%27%233838ffff%27%2C%20%27%233838ffff%27%2C%20%27%233838ffff%27%2C%20%27%233838ffff%27%2C%20%27%233838ffff%27%2C%20%27%233838ffff%27%2C%20%27%233838ffff%27%2C%20%27%233838ffff%27%2C%20%27%233838ffff%27%2C%20%27%233838ffff%27%2C%20%27%233838ffff%27%2C%20%27%233838ffff%27%2C%20%27%233838ffff%27%2C%20%27%233838ffff%27%2C%20%27%233838ffff%27%2C%20%27%233838ffff%27%2C%20%27%233838ffff%27%2C%20%27%233838ffff%27%2C%20%27%233838ffff%27%2C%20%27%233838ffff%27%2C%20%27%233838ffff%27%2C%20%27%233838ffff%27%2C%20%27%233838ffff%27%2C%20%27%233838ffff%27%2C%20%27%233838ffff%27%2C%20%27%233838ffff%27%2C%20%27%233838ffff%27%2C%20%27%233838ffff%27%2C%20%27%233838ffff%27%2C%20%27%233838ffff%27%2C%20%27%233838ffff%27%2C%20%27%233838ffff%27%2C%20%27%233838ffff%27%2C%20%27%233838ffff%27%2C%20%27%233838ffff%27%2C%20%27%233838ffff%27%2C%20%27%233838ffff%27%2C%20%27%233838ffff%27%2C%20%27%233838ffff%27%2C%20%27%233838ffff%27%2C%20%27%237171ffff%27%2C%20%27%237171ffff%27%2C%20%27%237171ffff%27%2C%20%27%237171ffff%27%2C%20%27%237171ffff%27%2C%20%27%237171ffff%27%2C%20%27%237171ffff%27%2C%20%27%237171ffff%27%2C%20%27%237171ffff%27%2C%20%27%237171ffff%27%2C%20%27%237171ffff%27%2C%20%27%237171ffff%27%2C%20%27%237171ffff%27%2C%20%27%237171ffff%27%2C%20%27%237171ffff%27%2C%20%27%237171ffff%27%2C%20%27%237171ffff%27%2C%20%27%237171ffff%27%2C%20%27%237171ffff%27%2C%20%27%237171ffff%27%2C%20%27%237171ffff%27%2C%20%27%237171ffff%27%2C%20%27%237171ffff%27%2C%20%27%237171ffff%27%2C%20%27%237171ffff%27%2C%20%27%237171ffff%27%2C%20%27%237171ffff%27%2C%20%27%237171ffff%27%2C%20%27%237171ffff%27%2C%20%27%237171ffff%27%2C%20%27%237171ffff%27%2C%20%27%237171ffff%27%2C%20%27%237171ffff%27%2C%20%27%237171ffff%27%2C%20%27%237171ffff%27%2C%20%27%237171ffff%27%2C%20%27%237171ffff%27%2C%20%27%237171ffff%27%2C%20%27%237171ffff%27%2C%20%27%237171ffff%27%2C%20%27%237171ffff%27%2C%20%27%237171ffff%27%2C%20%27%237171ffff%27%2C%20%27%237171ffff%27%2C%20%27%237171ffff%27%2C%20%27%237171ffff%27%2C%20%27%237171ffff%27%2C%20%27%237171ffff%27%2C%20%27%237171ffff%27%2C%20%27%237171ffff%27%2C%20%27%23aaaaffff%27%2C%20%27%23aaaaffff%27%2C%20%27%23aaaaffff%27%2C%20%27%23aaaaffff%27%2C%20%27%23aaaaffff%27%2C%20%27%23aaaaffff%27%2C%20%27%23aaaaffff%27%2C%20%27%23aaaaffff%27%2C%20%27%23aaaaffff%27%2C%20%27%23aaaaffff%27%2C%20%27%23aaaaffff%27%2C%20%27%23aaaaffff%27%2C%20%27%23aaaaffff%27%2C%20%27%23aaaaffff%27%2C%20%27%23aaaaffff%27%2C%20%27%23aaaaffff%27%2C%20%27%23aaaaffff%27%2C%20%27%23aaaaffff%27%2C%20%27%23aaaaffff%27%2C%20%27%23aaaaffff%27%2C%20%27%23aaaaffff%27%2C%20%27%23aaaaffff%27%2C%20%27%23aaaaffff%27%2C%20%27%23aaaaffff%27%2C%20%27%23aaaaffff%27%2C%20%27%23aaaaffff%27%2C%20%27%23aaaaffff%27%2C%20%27%23aaaaffff%27%2C%20%27%23aaaaffff%27%2C%20%27%23aaaaffff%27%2C%20%27%23aaaaffff%27%2C%20%27%23aaaaffff%27%2C%20%27%23aaaaffff%27%2C%20%27%23aaaaffff%27%2C%20%27%23aaaaffff%27%2C%20%27%23aaaaffff%27%2C%20%27%23aaaaffff%27%2C%20%27%23aaaaffff%27%2C%20%27%23aaaaffff%27%2C%20%27%23aaaaffff%27%2C%20%27%23aaaaffff%27%2C%20%27%23aaaaffff%27%2C%20%27%23aaaaffff%27%2C%20%27%23aaaaffff%27%2C%20%27%23aaaaffff%27%2C%20%27%23aaaaffff%27%2C%20%27%23aaaaffff%27%2C%20%27%23aaaaffff%27%2C%20%27%23aaaaffff%27%2C%20%27%23aaaaffff%27%2C%20%27%23e3e3ffff%27%2C%20%27%23e3e3ffff%27%2C%20%27%23e3e3ffff%27%2C%20%27%23e3e3ffff%27%2C%20%27%23e3e3ffff%27%2C%20%27%23e3e3ffff%27%2C%20%27%23e3e3ffff%27%2C%20%27%23e3e3ffff%27%2C%20%27%23e3e3ffff%27%2C%20%27%23e3e3ffff%27%2C%20%27%23e3e3ffff%27%2C%20%27%23e3e3ffff%27%2C%20%27%23e3e3ffff%27%2C%20%27%23e3e3ffff%27%2C%20%27%23e3e3ffff%27%2C%20%27%23e3e3ffff%27%2C%20%27%23e3e3ffff%27%2C%20%27%23e3e3ffff%27%2C%20%27%23e3e3ffff%27%2C%20%27%23e3e3ffff%27%2C%20%27%23e3e3ffff%27%2C%20%27%23e3e3ffff%27%2C%20%27%23e3e3ffff%27%2C%20%27%23e3e3ffff%27%2C%20%27%23e3e3ffff%27%2C%20%27%23e3e3ffff%27%2C%20%27%23e3e3ffff%27%2C%20%27%23e3e3ffff%27%2C%20%27%23e3e3ffff%27%2C%20%27%23e3e3ffff%27%2C%20%27%23e3e3ffff%27%2C%20%27%23e3e3ffff%27%2C%20%27%23e3e3ffff%27%2C%20%27%23e3e3ffff%27%2C%20%27%23e3e3ffff%27%2C%20%27%23e3e3ffff%27%2C%20%27%23e3e3ffff%27%2C%20%27%23e3e3ffff%27%2C%20%27%23e3e3ffff%27%2C%20%27%23e3e3ffff%27%2C%20%27%23e3e3ffff%27%2C%20%27%23e3e3ffff%27%2C%20%27%23e3e3ffff%27%2C%20%27%23e3e3ffff%27%2C%20%27%23e3e3ffff%27%2C%20%27%23e3e3ffff%27%2C%20%27%23e3e3ffff%27%2C%20%27%23e3e3ffff%27%2C%20%27%23e3e3ffff%27%2C%20%27%23e3e3ffff%27%2C%20%27%23ffe3e3ff%27%2C%20%27%23ffe3e3ff%27%2C%20%27%23ffe3e3ff%27%2C%20%27%23ffe3e3ff%27%2C%20%27%23ffe3e3ff%27%2C%20%27%23ffe3e3ff%27%2C%20%27%23ffe3e3ff%27%2C%20%27%23ffe3e3ff%27%2C%20%27%23ffe3e3ff%27%2C%20%27%23ffe3e3ff%27%2C%20%27%23ffe3e3ff%27%2C%20%27%23ffe3e3ff%27%2C%20%27%23ffe3e3ff%27%2C%20%27%23ffe3e3ff%27%2C%20%27%23ffe3e3ff%27%2C%20%27%23ffe3e3ff%27%2C%20%27%23ffe3e3ff%27%2C%20%27%23ffe3e3ff%27%2C%20%27%23ffe3e3ff%27%2C%20%27%23ffe3e3ff%27%2C%20%27%23ffe3e3ff%27%2C%20%27%23ffe3e3ff%27%2C%20%27%23ffe3e3ff%27%2C%20%27%23ffe3e3ff%27%2C%20%27%23ffe3e3ff%27%2C%20%27%23ffe3e3ff%27%2C%20%27%23ffe3e3ff%27%2C%20%27%23ffe3e3ff%27%2C%20%27%23ffe3e3ff%27%2C%20%27%23ffe3e3ff%27%2C%20%27%23ffe3e3ff%27%2C%20%27%23ffe3e3ff%27%2C%20%27%23ffe3e3ff%27%2C%20%27%23ffe3e3ff%27%2C%20%27%23ffe3e3ff%27%2C%20%27%23ffe3e3ff%27%2C%20%27%23ffe3e3ff%27%2C%20%27%23ffe3e3ff%27%2C%20%27%23ffe3e3ff%27%2C%20%27%23ffe3e3ff%27%2C%20%27%23ffe3e3ff%27%2C%20%27%23ffe3e3ff%27%2C%20%27%23ffe3e3ff%27%2C%20%27%23ffe3e3ff%27%2C%20%27%23ffe3e3ff%27%2C%20%27%23ffe3e3ff%27%2C%20%27%23ffe3e3ff%27%2C%20%27%23ffe3e3ff%27%2C%20%27%23ffe3e3ff%27%2C%20%27%23ffe3e3ff%27%2C%20%27%23ffaaaaff%27%2C%20%27%23ffaaaaff%27%2C%20%27%23ffaaaaff%27%2C%20%27%23ffaaaaff%27%2C%20%27%23ffaaaaff%27%2C%20%27%23ffaaaaff%27%2C%20%27%23ffaaaaff%27%2C%20%27%23ffaaaaff%27%2C%20%27%23ffaaaaff%27%2C%20%27%23ffaaaaff%27%2C%20%27%23ffaaaaff%27%2C%20%27%23ffaaaaff%27%2C%20%27%23ffaaaaff%27%2C%20%27%23ffaaaaff%27%2C%20%27%23ffaaaaff%27%2C%20%27%23ffaaaaff%27%2C%20%27%23ffaaaaff%27%2C%20%27%23ffaaaaff%27%2C%20%27%23ffaaaaff%27%2C%20%27%23ffaaaaff%27%2C%20%27%23ffaaaaff%27%2C%20%27%23ffaaaaff%27%2C%20%27%23ffaaaaff%27%2C%20%27%23ffaaaaff%27%2C%20%27%23ffaaaaff%27%2C%20%27%23ffaaaaff%27%2C%20%27%23ffaaaaff%27%2C%20%27%23ffaaaaff%27%2C%20%27%23ffaaaaff%27%2C%20%27%23ffaaaaff%27%2C%20%27%23ffaaaaff%27%2C%20%27%23ffaaaaff%27%2C%20%27%23ffaaaaff%27%2C%20%27%23ffaaaaff%27%2C%20%27%23ffaaaaff%27%2C%20%27%23ffaaaaff%27%2C%20%27%23ffaaaaff%27%2C%20%27%23ffaaaaff%27%2C%20%27%23ffaaaaff%27%2C%20%27%23ffaaaaff%27%2C%20%27%23ffaaaaff%27%2C%20%27%23ffaaaaff%27%2C%20%27%23ffaaaaff%27%2C%20%27%23ffaaaaff%27%2C%20%27%23ffaaaaff%27%2C%20%27%23ffaaaaff%27%2C%20%27%23ffaaaaff%27%2C%20%27%23ffaaaaff%27%2C%20%27%23ffaaaaff%27%2C%20%27%23ffaaaaff%27%2C%20%27%23ff7171ff%27%2C%20%27%23ff7171ff%27%2C%20%27%23ff7171ff%27%2C%20%27%23ff7171ff%27%2C%20%27%23ff7171ff%27%2C%20%27%23ff7171ff%27%2C%20%27%23ff7171ff%27%2C%20%27%23ff7171ff%27%2C%20%27%23ff7171ff%27%2C%20%27%23ff7171ff%27%2C%20%27%23ff7171ff%27%2C%20%27%23ff7171ff%27%2C%20%27%23ff7171ff%27%2C%20%27%23ff7171ff%27%2C%20%27%23ff7171ff%27%2C%20%27%23ff7171ff%27%2C%20%27%23ff7171ff%27%2C%20%27%23ff7171ff%27%2C%20%27%23ff7171ff%27%2C%20%27%23ff7171ff%27%2C%20%27%23ff7171ff%27%2C%20%27%23ff7171ff%27%2C%20%27%23ff7171ff%27%2C%20%27%23ff7171ff%27%2C%20%27%23ff7171ff%27%2C%20%27%23ff7171ff%27%2C%20%27%23ff7171ff%27%2C%20%27%23ff7171ff%27%2C%20%27%23ff7171ff%27%2C%20%27%23ff7171ff%27%2C%20%27%23ff7171ff%27%2C%20%27%23ff7171ff%27%2C%20%27%23ff7171ff%27%2C%20%27%23ff7171ff%27%2C%20%27%23ff7171ff%27%2C%20%27%23ff7171ff%27%2C%20%27%23ff7171ff%27%2C%20%27%23ff7171ff%27%2C%20%27%23ff7171ff%27%2C%20%27%23ff7171ff%27%2C%20%27%23ff7171ff%27%2C%20%27%23ff7171ff%27%2C%20%27%23ff7171ff%27%2C%20%27%23ff7171ff%27%2C%20%27%23ff7171ff%27%2C%20%27%23ff7171ff%27%2C%20%27%23ff7171ff%27%2C%20%27%23ff7171ff%27%2C%20%27%23ff7171ff%27%2C%20%27%23ff7171ff%27%2C%20%27%23ff3838ff%27%2C%20%27%23ff3838ff%27%2C%20%27%23ff3838ff%27%2C%20%27%23ff3838ff%27%2C%20%27%23ff3838ff%27%2C%20%27%23ff3838ff%27%2C%20%27%23ff3838ff%27%2C%20%27%23ff3838ff%27%2C%20%27%23ff3838ff%27%2C%20%27%23ff3838ff%27%2C%20%27%23ff3838ff%27%2C%20%27%23ff3838ff%27%2C%20%27%23ff3838ff%27%2C%20%27%23ff3838ff%27%2C%20%27%23ff3838ff%27%2C%20%27%23ff3838ff%27%2C%20%27%23ff3838ff%27%2C%20%27%23ff3838ff%27%2C%20%27%23ff3838ff%27%2C%20%27%23ff3838ff%27%2C%20%27%23ff3838ff%27%2C%20%27%23ff3838ff%27%2C%20%27%23ff3838ff%27%2C%20%27%23ff3838ff%27%2C%20%27%23ff3838ff%27%2C%20%27%23ff3838ff%27%2C%20%27%23ff3838ff%27%2C%20%27%23ff3838ff%27%2C%20%27%23ff3838ff%27%2C%20%27%23ff3838ff%27%2C%20%27%23ff3838ff%27%2C%20%27%23ff3838ff%27%2C%20%27%23ff3838ff%27%2C%20%27%23ff3838ff%27%2C%20%27%23ff3838ff%27%2C%20%27%23ff3838ff%27%2C%20%27%23ff3838ff%27%2C%20%27%23ff3838ff%27%2C%20%27%23ff3838ff%27%2C%20%27%23ff3838ff%27%2C%20%27%23ff3838ff%27%2C%20%27%23ff3838ff%27%2C%20%27%23ff3838ff%27%2C%20%27%23ff3838ff%27%2C%20%27%23ff3838ff%27%2C%20%27%23ff3838ff%27%2C%20%27%23ff3838ff%27%2C%20%27%23ff3838ff%27%2C%20%27%23ff3838ff%27%2C%20%27%23ff3838ff%27%2C%20%27%23ff0000ff%27%2C%20%27%23ff0000ff%27%2C%20%27%23ff0000ff%27%2C%20%27%23ff0000ff%27%2C%20%27%23ff0000ff%27%2C%20%27%23ff0000ff%27%2C%20%27%23ff0000ff%27%2C%20%27%23ff0000ff%27%2C%20%27%23ff0000ff%27%2C%20%27%23ff0000ff%27%2C%20%27%23ff0000ff%27%2C%20%27%23ff0000ff%27%2C%20%27%23ff0000ff%27%2C%20%27%23ff0000ff%27%2C%20%27%23ff0000ff%27%2C%20%27%23ff0000ff%27%2C%20%27%23ff0000ff%27%2C%20%27%23ff0000ff%27%2C%20%27%23ff0000ff%27%2C%20%27%23ff0000ff%27%2C%20%27%23ff0000ff%27%2C%20%27%23ff0000ff%27%2C%20%27%23ff0000ff%27%2C%20%27%23ff0000ff%27%2C%20%27%23ff0000ff%27%2C%20%27%23ff0000ff%27%2C%20%27%23ff0000ff%27%2C%20%27%23ff0000ff%27%2C%20%27%23ff0000ff%27%2C%20%27%23ff0000ff%27%2C%20%27%23ff0000ff%27%2C%20%27%23ff0000ff%27%2C%20%27%23ff0000ff%27%2C%20%27%23ff0000ff%27%2C%20%27%23ff0000ff%27%2C%20%27%23ff0000ff%27%2C%20%27%23ff0000ff%27%2C%20%27%23ff0000ff%27%2C%20%27%23ff0000ff%27%2C%20%27%23ff0000ff%27%2C%20%27%23ff0000ff%27%2C%20%27%23ff0000ff%27%2C%20%27%23ff0000ff%27%2C%20%27%23ff0000ff%27%2C%20%27%23ff0000ff%27%2C%20%27%23ff0000ff%27%2C%20%27%23ff0000ff%27%2C%20%27%23ff0000ff%27%2C%20%27%23ff0000ff%27%2C%20%27%23ff0000ff%27%5D%29%3B%0A%20%20%20%20%0A%0A%20%20%20%20color_map_c88dfaee88ea4ad79e7a92030f896bc2.x%20%3D%20d3.scale.linear%28%29%0A%20%20%20%20%20%20%20%20%20%20%20%20%20%20.domain%28%5B-23.079737638877024%2C%20-6.693855549982992%5D%29%0A%20%20%20%20%20%20%20%20%20%20%20%20%20%20.range%28%5B0%2C%20400%5D%29%3B%0A%0A%20%20%20%20color_map_c88dfaee88ea4ad79e7a92030f896bc2.legend%20%3D%20L.control%28%7Bposition%3A%20%27topright%27%7D%29%3B%0A%20%20%20%20color_map_c88dfaee88ea4ad79e7a92030f896bc2.legend.onAdd%20%3D%20function%20%28map%29%20%7Bvar%20div%20%3D%20L.DomUtil.create%28%27div%27%2C%20%27legend%27%29%3B%20return%20div%7D%3B%0A%20%20%20%20color_map_c88dfaee88ea4ad79e7a92030f896bc2.legend.addTo%28map_fdd9cae9c87f45d7b1a5d43701c6ca85%29%3B%0A%0A%20%20%20%20color_map_c88dfaee88ea4ad79e7a92030f896bc2.xAxis%20%3D%20d3.svg.axis%28%29%0A%20%20%20%20%20%20%20%20.scale%28color_map_c88dfaee88ea4ad79e7a92030f896bc2.x%29%0A%20%20%20%20%20%20%20%20.orient%28%22top%22%29%0A%20%20%20%20%20%20%20%20.tickSize%281%29%0A%20%20%20%20%20%20%20%20.tickValues%28%5B-23.079737638877024%2C%20%27%27%2C%20-19.802561221098216%2C%20%27%27%2C%20-16.52538480331941%2C%20%27%27%2C%20-13.248208385540606%2C%20%27%27%2C%20-9.971031967761798%2C%20%27%27%2C%20-6.693855549982992%2C%20%27%27%5D%29%3B%0A%0A%20%20%20%20color_map_c88dfaee88ea4ad79e7a92030f896bc2.svg%20%3D%20d3.select%28%22.legend.leaflet-control%22%29.append%28%22svg%22%29%0A%20%20%20%20%20%20%20%20.attr%28%22id%22%2C%20%27legend%27%29%0A%20%20%20%20%20%20%20%20.attr%28%22width%22%2C%20450%29%0A%20%20%20%20%20%20%20%20.attr%28%22height%22%2C%2040%29%3B%0A%0A%20%20%20%20color_map_c88dfaee88ea4ad79e7a92030f896bc2.g%20%3D%20color_map_c88dfaee88ea4ad79e7a92030f896bc2.svg.append%28%22g%22%29%0A%20%20%20%20%20%20%20%20.attr%28%22class%22%2C%20%22key%22%29%0A%20%20%20%20%20%20%20%20.attr%28%22transform%22%2C%20%22translate%2825%2C16%29%22%29%3B%0A%0A%20%20%20%20color_map_c88dfaee88ea4ad79e7a92030f896bc2.g.selectAll%28%22rect%22%29%0A%20%20%20%20%20%20%20%20.data%28color_map_c88dfaee88ea4ad79e7a92030f896bc2.color.range%28%29.map%28function%28d%2C%20i%29%20%7B%0A%20%20%20%20%20%20%20%20%20%20return%20%7B%0A%20%20%20%20%20%20%20%20%20%20%20%20x0%3A%20i%20%3F%20color_map_c88dfaee88ea4ad79e7a92030f896bc2.x%28color_map_c88dfaee88ea4ad79e7a92030f896bc2.color.domain%28%29%5Bi%20-%201%5D%29%20%3A%20color_map_c88dfaee88ea4ad79e7a92030f896bc2.x.range%28%29%5B0%5D%2C%0A%20%20%20%20%20%20%20%20%20%20%20%20x1%3A%20i%20%3C%20color_map_c88dfaee88ea4ad79e7a92030f896bc2.color.domain%28%29.length%20%3F%20color_map_c88dfaee88ea4ad79e7a92030f896bc2.x%28color_map_c88dfaee88ea4ad79e7a92030f896bc2.color.domain%28%29%5Bi%5D%29%20%3A%20color_map_c88dfaee88ea4ad79e7a92030f896bc2.x.range%28%29%5B1%5D%2C%0A%20%20%20%20%20%20%20%20%20%20%20%20z%3A%20d%0A%20%20%20%20%20%20%20%20%20%20%7D%3B%0A%20%20%20%20%20%20%20%20%7D%29%29%0A%20%20%20%20%20%20.enter%28%29.append%28%22rect%22%29%0A%20%20%20%20%20%20%20%20.attr%28%22height%22%2C%2010%29%0A%20%20%20%20%20%20%20%20.attr%28%22x%22%2C%20function%28d%29%20%7B%20return%20d.x0%3B%20%7D%29%0A%20%20%20%20%20%20%20%20.attr%28%22width%22%2C%20function%28d%29%20%7B%20return%20d.x1%20-%20d.x0%3B%20%7D%29%0A%20%20%20%20%20%20%20%20.style%28%22fill%22%2C%20function%28d%29%20%7B%20return%20d.z%3B%20%7D%29%3B%0A%0A%20%20%20%20color_map_c88dfaee88ea4ad79e7a92030f896bc2.g.call%28color_map_c88dfaee88ea4ad79e7a92030f896bc2.xAxis%29.append%28%22text%22%29%0A%20%20%20%20%20%20%20%20.attr%28%22class%22%2C%20%22caption%22%29%0A%20%20%20%20%20%20%20%20.attr%28%22y%22%2C%2021%29%0A%20%20%20%20%20%20%20%20.text%28%27SAR%20mean%20amplitude%2C%20ascending%20track%27%29%3B%0A%20%20%20%20%0A%20%20%20%20%20%20%20%20var%20geo_json_300e625f162047f4969cccc5454d323f%20%3D%20L.geoJson%28%0A%20%20%20%20%20%20%20%20%20%20%20%20%7B%22features%22%3A%20%5B%7B%22geometry%22%3A%20%7B%22coordinates%22%3A%20%5B%5B%5B-93.42%2C%2038.04%5D%2C%20%5B-92.62%2C%2038.04%5D%2C%20%5B-92.62%2C%2038.4%5D%2C%20%5B-93.42%2C%2038.4%5D%2C%20%5B-93.42%2C%2038.04%5D%5D%5D%2C%20%22type%22%3A%20%22Polygon%22%7D%2C%20%22properties%22%3A%20%7B%22highlight%22%3A%20%7B%7D%2C%20%22style%22%3A%20%7B%7D%7D%2C%20%22type%22%3A%20%22Feature%22%7D%5D%2C%20%22type%22%3A%20%22FeatureCollection%22%7D%2C%0A%20%20%20%20%20%20%20%20%20%20%20%20%7B%0A%20%20%20%20%20%20%20%20%20%20%20%20%7D%0A%20%20%20%20%20%20%20%20%29.addTo%28map_fdd9cae9c87f45d7b1a5d43701c6ca85%20%29%3B%0A%20%20%20%20%20%20%20%20geo_json_300e625f162047f4969cccc5454d323f.setStyle%28function%28feature%29%20%7Breturn%20feature.properties.style%3B%7D%29%3B%0A%20%20%20%20%20%20%20%20%0A%20%20%20%20%0A%20%20%20%20%20%20%20%20%20%20%20%20var%20layer_control_77d24725ad71424d959ea4421f8f8d36%20%3D%20%7B%0A%20%20%20%20%20%20%20%20%20%20%20%20%20%20%20%20base_layers%20%3A%20%7B%20%22https%3A//server.arcgisonline.com/arcgis/rest/services/world_imagery/mapserver/tile/%7Bz%7D/%7By%7D/%7Bx%7D%22%20%3A%20tile_layer_7995bb966e1a4114b03b8829dddc28c2%2C%20%7D%2C%0A%20%20%20%20%20%20%20%20%20%20%20%20%20%20%20%20overlays%20%3A%20%7B%20%22SAR%20mean%20amplitude%2C%20ascending%20track%22%20%3A%20tile_layer_bcfa95e1ae3141a689c7973e6d390af8%2C%22bounding%20box%22%20%3A%20geo_json_300e625f162047f4969cccc5454d323f%2C%20%7D%0A%20%20%20%20%20%20%20%20%20%20%20%20%20%20%20%20%7D%3B%0A%20%20%20%20%20%20%20%20%20%20%20%20L.control.layers%28%0A%20%20%20%20%20%20%20%20%20%20%20%20%20%20%20%20layer_control_77d24725ad71424d959ea4421f8f8d36.base_layers%2C%0A%20%20%20%20%20%20%20%20%20%20%20%20%20%20%20%20layer_control_77d24725ad71424d959ea4421f8f8d36.overlays%2C%0A%20%20%20%20%20%20%20%20%20%20%20%20%20%20%20%20%7Bposition%3A%20%27topright%27%2C%0A%20%20%20%20%20%20%20%20%20%20%20%20%20%20%20%20%20collapsed%3A%20true%2C%0A%20%20%20%20%20%20%20%20%20%20%20%20%20%20%20%20%20autoZIndex%3A%20true%0A%20%20%20%20%20%20%20%20%20%20%20%20%20%20%20%20%7D%29.addTo%28map_fdd9cae9c87f45d7b1a5d43701c6ca85%29%3B%0A%20%20%20%20%20%20%20%20%20%20%20%20%0A%20%20%20%20%20%20%20%20%0A%3C/script%3E onload=\"this.contentDocument.open();this.contentDocument.write(    decodeURIComponent(this.getAttribute('data-html')));this.contentDocument.close();\" allowfullscreen webkitallowfullscreen mozallowfullscreen></iframe></div></div>"
            ],
            "text/plain": [
              "<folium.folium.Map at 0x7fba736ee510>"
            ]
          },
          "metadata": {
            "tags": []
          }
        }
      ]
    },
    {
      "cell_type": "markdown",
      "metadata": {
        "id": "JnBj9XIyWmgo"
      },
      "source": [
        "# Part 3: Apply to your term project\r\n",
        "\r\n",
        "Like last lab, you will now apply what you've learned to your study area. View SAR imagery over your study area, and use it to make some interpretation. It may be relevant to your term project, or may not be. But once again, pick 5 features and identify their three properties that relate to SAR amplitude.\r\n",
        "\r\n",
        "To transfer this to your study area, you will first replace the coordinates (min lon, max lon, etc.) with coordinates of the minimum and maximum longitude and latitude of your study area. (Hint: don't make it too big, or google earth engine will get bogged down. A range of 1 degree or so is usually fine). Then replace the 'yyyy-mm-dd' for start and end to reflect dates that you are interested in. This is Landsat8, so be sure to pick dates when you know Landsat 8 was in orbit. The algorithm will pick the first image it can find, so the start date is the most important."
      ]
    },
    {
      "cell_type": "code",
      "metadata": {
        "id": "wsMuNh4EW4nf"
      },
      "source": [
        "# create a bounding box that defines the study area. This will cover the Lake of the Ozarks region\r\n",
        "geom_studyarea = addGeometry(minlon,maxlon,minlat,maxlat) # min long, max long, min lat, max lat\r\n",
        "\r\n",
        "# define dates of interest (inclusive).\r\n",
        "start = 'yyyy-mm-dd'\r\n",
        "end = 'yyyy-mm-dd'\r\n",
        "\r\n",
        "s1_img_studyarea = get_s1_image(start,end,geom_studyarea,'ASCENDING')"
      ],
      "execution_count": null,
      "outputs": []
    },
    {
      "cell_type": "markdown",
      "metadata": {
        "id": "Put9DrpeX-kj"
      },
      "source": [
        "View the map. You'll have to replace lat and lon with the coordinates you want the map centered on. Include a screenshot of your map with the index raster in your report."
      ]
    },
    {
      "cell_type": "code",
      "metadata": {
        "id": "C_qn1E0iX_TL"
      },
      "source": [
        "my_map = folium.Map(location=[lat, lon], zoom_start=11)\r\n",
        "\r\n",
        "# Add the land cover to the map object.\r\n",
        "my_map.add_ee_layer(s1_img_studyarea,'SAR amplitude, ascending track')\r\n",
        "my_map.add_ee_layer(geom_studyarea,'bounding box')\r\n",
        "\r\n",
        "# Add a layer control panel to the map.\r\n",
        "my_map.add_child(folium.LayerControl())\r\n",
        "\r\n",
        "# Display the map.\r\n",
        "display(my_map)"
      ],
      "execution_count": null,
      "outputs": []
    },
    {
      "cell_type": "markdown",
      "metadata": {
        "id": "4gQPQk_bbi35"
      },
      "source": [
        "You can download the index if you'd like by running this code:\r\n",
        "(if it fails, it will be because the file is too big. You can reduce the file by making your bouding box smaller)."
      ]
    },
    {
      "cell_type": "code",
      "metadata": {
        "id": "ZOC3yrrdbmoU"
      },
      "source": [
        "s1_download=s1_img_studyarea.clip(geom_studyarea)\r\n",
        "print('raster download:')\r\n",
        "getLink(s1_download,geom_studyarea)"
      ],
      "execution_count": null,
      "outputs": []
    },
    {
      "cell_type": "markdown",
      "metadata": {
        "id": "lygK9S_xb1RE"
      },
      "source": [
        "# Part 4: Working with InSAR data"
      ]
    },
    {
      "cell_type": "code",
      "metadata": {
        "id": "xZ_ApHQzb5Br"
      },
      "source": [
        "import gdal\r\n",
        "import matplotlib.pyplot as plt"
      ],
      "execution_count": null,
      "outputs": []
    },
    {
      "cell_type": "markdown",
      "metadata": {
        "id": "8kibJmTtBGro"
      },
      "source": [
        "So far we've been looking at amplitude from SAR data. Now we will look at phase. The phase of a single image will look random:"
      ]
    },
    {
      "cell_type": "code",
      "metadata": {
        "id": "aDeGH1wwBNK5"
      },
      "source": [
        "phase_single=np.random.uniform(-np.pi,np.pi,(553,737))\r\n",
        "plt.figure(figsize=(7,5));plt.imshow(phase_single);plt.colorbar()"
      ],
      "execution_count": null,
      "outputs": []
    },
    {
      "cell_type": "markdown",
      "metadata": {
        "id": "njc7TqXPBhb3"
      },
      "source": [
        "But the change in phase from one satellite pass to another (or from the same satellite pass, if the satellite is viewing from multiple angles) can tell us something about the absolute elevation, and the change in elevation (if the acquisitions happen at different times). The change in phase from one acquisition to another is called interferometric synthetic aperture radar (InSAR).\r\n",
        "\r\n",
        "The image below is an interferogram, or the change in phase from one satellite pass to another. Notice that the fringe patterns look a bit like contour lines. This is because they are related to elevation. As elevation changes, the distance the wave travels from the satellite to the ground and back also changes, resulting in a change in phase. This change in phase resets each time the wave completes a cycle."
      ]
    },
    {
      "cell_type": "code",
      "metadata": {
        "id": "BV_Lp-Y_9jOw"
      },
      "source": [
        "insar_wrapped = loadraster('remote_sensing_course/labs/lab7/insar_wrapped.tif')\r\n",
        "plt.figure(figsize=(12,10))\r\n",
        "plt.imshow(insar_wrapped);plt.colorbar()"
      ],
      "execution_count": null,
      "outputs": []
    },
    {
      "cell_type": "markdown",
      "metadata": {
        "id": "kC9OKhhiCYdT"
      },
      "source": [
        "There is a processing tool called 'unwrapping' that finds the fringe patterns to determine where the wave has cycled, and increases their phase so that the phase change is continuous, thus removing the fringes. This is shown below."
      ]
    },
    {
      "cell_type": "code",
      "metadata": {
        "id": "NkjpzqUkAY20"
      },
      "source": [
        "insar_unwrapped = loadraster('remote_sensing_course/labs/lab7/insar_unwrapped.tif')\r\n",
        "plt.figure(figsize=(12,10))\r\n",
        "plt.imshow(insar_unwrapped);plt.colorbar()"
      ],
      "execution_count": null,
      "outputs": []
    },
    {
      "cell_type": "markdown",
      "metadata": {
        "id": "VK14sAquAyuw"
      },
      "source": [
        "This image is much more meaningful, and it's clear it's related to elevation. But we need to do some work to figure out what the elevation is. Use the formula from class to determine how to transform the change in phase, in radians, to elevation, in m. The factor that converts from change in phase, in radians, to elevation, h, in m, is given in Lecture 6 and in Equation 5.2 in  [Lu et al. (2021)](https://www.smu.edu/-/media/Site/Dedman/Academics/Departments/EarthSciences/PDF/Lu/098_Lu_etal_InSAR_DEM_2012.pdf?la=en) (assume deformation is 0). Parameters you will need are given in the code below."
      ]
    },
    {
      "cell_type": "code",
      "metadata": {
        "id": "n_qfAdCTC1ss"
      },
      "source": [
        "theta = 0.61\r\n",
        "H=693000\r\n",
        "B=300\r\n",
        "lambda_=0.236\r\n",
        "\r\n",
        "# make a line here to calculate the conversion factor from phase to elevation (change in elevation, m divided by change in phase, radians)\r\n",
        "conversion_factor=\r\n",
        "\r\n",
        "# make a line here to multiply the insar_unwrapped file by the conversion factor, transforming it to elevation, in m\r\n"
      ],
      "execution_count": null,
      "outputs": []
    },
    {
      "cell_type": "markdown",
      "metadata": {
        "id": "_vnywsyJDCOC"
      },
      "source": [
        "Once you've done the transformation, plot the image that you created. It should have values that are more representative of true elevation. Use the same code as above (plt.figure, plt.imshow) to plot your elevation image.\r\n",
        "\r\n",
        "**Include the code you used to convert it to elevation, and a screenshot of your elevation plot.**"
      ]
    },
    {
      "cell_type": "code",
      "metadata": {
        "id": "tQ06sZe1DQ2M"
      },
      "source": [
        "# fill this in with code to plot the image you created (follow the pattern for plotting figures from previous examples)\r\n",
        "# plt.figure(figsize=(12,10))\r\n",
        "# plt.imshow(<your varible name>);plt.colorbar()\r\n"
      ],
      "execution_count": null,
      "outputs": []
    },
    {
      "cell_type": "markdown",
      "metadata": {
        "id": "K5d5B3BNBC1I"
      },
      "source": [
        "As the Lu et al. chapter above indicates, change in phase is sensitive to the absolute elevation, which you just calculated, and to the change in elevation. If the elevation is known, its contribution to the change in phase can be subtracted from the interferogram. Then, the remaining change in phase is only due to ground deformation (if we assume negligible changes in atmospheric water vapor and orbital errors, which we will for this exercise).\r\n",
        "\r\n",
        "We will load the known elevation for this area:"
      ]
    },
    {
      "cell_type": "code",
      "metadata": {
        "id": "sCsEEWvj34kB"
      },
      "source": [
        "elev = loadraster('remote_sensing_course/labs/lab7/dem.tif')\r\n",
        "plt.figure(figsize=(12,10))\r\n",
        "plt.imshow(elev);plt.colorbar()"
      ],
      "execution_count": null,
      "outputs": []
    },
    {
      "cell_type": "markdown",
      "metadata": {
        "id": "71J3v1RB4Li9"
      },
      "source": [
        "Now, convert this raster from elevation, in m to change in phase, in radians. You will use the same conversion factor you already calculated, but this time divide instead of multiply."
      ]
    },
    {
      "cell_type": "code",
      "metadata": {
        "id": "p_8fpJn74XX0"
      },
      "source": [
        "# fill this in with code to calculate the change in phase from the elevation raster, 'elev', and plot it\r\n"
      ],
      "execution_count": null,
      "outputs": []
    },
    {
      "cell_type": "markdown",
      "metadata": {
        "id": "oi_b5We84ea7"
      },
      "source": [
        "Now, make a 'flattened' raster that subtracts the change in phase that you calculated from the 'insar_unwrapped' raster. Plot this image. This now shows the deformation that occurred between satellite passes, in radians! This can be converted to m using: phase x lambda / (pi x 4) \r\n",
        "\r\n",
        "**Include the image showing deformation, and the code you used to calculate and subtract the elevation phase from the original interferogram in your lab report.**"
      ]
    },
    {
      "cell_type": "code",
      "metadata": {
        "id": "vk_w2ioF9aAQ"
      },
      "source": [
        "# fill this in with code to subtract your phase calculated from the elevation from 'insar_unwrapped'\r\n",
        "\r\n",
        "# fill this in with code to plot the image you just created\r\n"
      ],
      "execution_count": null,
      "outputs": []
    }
  ]
}